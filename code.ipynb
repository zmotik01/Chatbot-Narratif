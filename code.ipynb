{
  "cells": [
    {
      "cell_type": "code",
      "execution_count": 1,
      "id": "fV-LEZFGFc7o",
      "metadata": {
        "colab": {
          "base_uri": "https://localhost:8080/"
        },
        "id": "fV-LEZFGFc7o",
        "outputId": "c8ca2a0a-00e1-496a-b069-6f0020f114ae"
      },
      "outputs": [
        {
          "output_type": "stream",
          "name": "stdout",
          "text": [
            "Requirement already satisfied: langchain in /usr/local/lib/python3.11/dist-packages (0.3.25)\n",
            "Requirement already satisfied: langchain-community in /usr/local/lib/python3.11/dist-packages (0.3.25)\n",
            "Requirement already satisfied: langchain-core<1.0.0,>=0.3.58 in /usr/local/lib/python3.11/dist-packages (from langchain) (0.3.65)\n",
            "Requirement already satisfied: langchain-text-splitters<1.0.0,>=0.3.8 in /usr/local/lib/python3.11/dist-packages (from langchain) (0.3.8)\n",
            "Requirement already satisfied: langsmith<0.4,>=0.1.17 in /usr/local/lib/python3.11/dist-packages (from langchain) (0.3.45)\n",
            "Requirement already satisfied: pydantic<3.0.0,>=2.7.4 in /usr/local/lib/python3.11/dist-packages (from langchain) (2.11.5)\n",
            "Requirement already satisfied: SQLAlchemy<3,>=1.4 in /usr/local/lib/python3.11/dist-packages (from langchain) (2.0.41)\n",
            "Requirement already satisfied: requests<3,>=2 in /usr/local/lib/python3.11/dist-packages (from langchain) (2.32.3)\n",
            "Requirement already satisfied: PyYAML>=5.3 in /usr/local/lib/python3.11/dist-packages (from langchain) (6.0.2)\n",
            "Requirement already satisfied: aiohttp<4.0.0,>=3.8.3 in /usr/local/lib/python3.11/dist-packages (from langchain-community) (3.11.15)\n",
            "Requirement already satisfied: tenacity!=8.4.0,<10,>=8.1.0 in /usr/local/lib/python3.11/dist-packages (from langchain-community) (9.1.2)\n",
            "Requirement already satisfied: dataclasses-json<0.7,>=0.5.7 in /usr/local/lib/python3.11/dist-packages (from langchain-community) (0.6.7)\n",
            "Requirement already satisfied: pydantic-settings<3.0.0,>=2.4.0 in /usr/local/lib/python3.11/dist-packages (from langchain-community) (2.9.1)\n",
            "Requirement already satisfied: httpx-sse<1.0.0,>=0.4.0 in /usr/local/lib/python3.11/dist-packages (from langchain-community) (0.4.0)\n",
            "Requirement already satisfied: numpy>=1.26.2 in /usr/local/lib/python3.11/dist-packages (from langchain-community) (2.0.2)\n",
            "Requirement already satisfied: aiohappyeyeballs>=2.3.0 in /usr/local/lib/python3.11/dist-packages (from aiohttp<4.0.0,>=3.8.3->langchain-community) (2.6.1)\n",
            "Requirement already satisfied: aiosignal>=1.1.2 in /usr/local/lib/python3.11/dist-packages (from aiohttp<4.0.0,>=3.8.3->langchain-community) (1.3.2)\n",
            "Requirement already satisfied: attrs>=17.3.0 in /usr/local/lib/python3.11/dist-packages (from aiohttp<4.0.0,>=3.8.3->langchain-community) (25.3.0)\n",
            "Requirement already satisfied: frozenlist>=1.1.1 in /usr/local/lib/python3.11/dist-packages (from aiohttp<4.0.0,>=3.8.3->langchain-community) (1.6.0)\n",
            "Requirement already satisfied: multidict<7.0,>=4.5 in /usr/local/lib/python3.11/dist-packages (from aiohttp<4.0.0,>=3.8.3->langchain-community) (6.4.4)\n",
            "Requirement already satisfied: propcache>=0.2.0 in /usr/local/lib/python3.11/dist-packages (from aiohttp<4.0.0,>=3.8.3->langchain-community) (0.3.1)\n",
            "Requirement already satisfied: yarl<2.0,>=1.17.0 in /usr/local/lib/python3.11/dist-packages (from aiohttp<4.0.0,>=3.8.3->langchain-community) (1.20.0)\n",
            "Requirement already satisfied: marshmallow<4.0.0,>=3.18.0 in /usr/local/lib/python3.11/dist-packages (from dataclasses-json<0.7,>=0.5.7->langchain-community) (3.26.1)\n",
            "Requirement already satisfied: typing-inspect<1,>=0.4.0 in /usr/local/lib/python3.11/dist-packages (from dataclasses-json<0.7,>=0.5.7->langchain-community) (0.9.0)\n",
            "Requirement already satisfied: jsonpatch<2.0,>=1.33 in /usr/local/lib/python3.11/dist-packages (from langchain-core<1.0.0,>=0.3.58->langchain) (1.33)\n",
            "Requirement already satisfied: packaging<25,>=23.2 in /usr/local/lib/python3.11/dist-packages (from langchain-core<1.0.0,>=0.3.58->langchain) (24.2)\n",
            "Requirement already satisfied: typing-extensions>=4.7 in /usr/local/lib/python3.11/dist-packages (from langchain-core<1.0.0,>=0.3.58->langchain) (4.14.0)\n",
            "Requirement already satisfied: httpx<1,>=0.23.0 in /usr/local/lib/python3.11/dist-packages (from langsmith<0.4,>=0.1.17->langchain) (0.28.1)\n",
            "Requirement already satisfied: orjson<4.0.0,>=3.9.14 in /usr/local/lib/python3.11/dist-packages (from langsmith<0.4,>=0.1.17->langchain) (3.10.18)\n",
            "Requirement already satisfied: requests-toolbelt<2.0.0,>=1.0.0 in /usr/local/lib/python3.11/dist-packages (from langsmith<0.4,>=0.1.17->langchain) (1.0.0)\n",
            "Requirement already satisfied: zstandard<0.24.0,>=0.23.0 in /usr/local/lib/python3.11/dist-packages (from langsmith<0.4,>=0.1.17->langchain) (0.23.0)\n",
            "Requirement already satisfied: annotated-types>=0.6.0 in /usr/local/lib/python3.11/dist-packages (from pydantic<3.0.0,>=2.7.4->langchain) (0.7.0)\n",
            "Requirement already satisfied: pydantic-core==2.33.2 in /usr/local/lib/python3.11/dist-packages (from pydantic<3.0.0,>=2.7.4->langchain) (2.33.2)\n",
            "Requirement already satisfied: typing-inspection>=0.4.0 in /usr/local/lib/python3.11/dist-packages (from pydantic<3.0.0,>=2.7.4->langchain) (0.4.1)\n",
            "Requirement already satisfied: python-dotenv>=0.21.0 in /usr/local/lib/python3.11/dist-packages (from pydantic-settings<3.0.0,>=2.4.0->langchain-community) (1.1.0)\n",
            "Requirement already satisfied: charset-normalizer<4,>=2 in /usr/local/lib/python3.11/dist-packages (from requests<3,>=2->langchain) (3.4.2)\n",
            "Requirement already satisfied: idna<4,>=2.5 in /usr/local/lib/python3.11/dist-packages (from requests<3,>=2->langchain) (3.10)\n",
            "Requirement already satisfied: urllib3<3,>=1.21.1 in /usr/local/lib/python3.11/dist-packages (from requests<3,>=2->langchain) (2.4.0)\n",
            "Requirement already satisfied: certifi>=2017.4.17 in /usr/local/lib/python3.11/dist-packages (from requests<3,>=2->langchain) (2025.4.26)\n",
            "Requirement already satisfied: greenlet>=1 in /usr/local/lib/python3.11/dist-packages (from SQLAlchemy<3,>=1.4->langchain) (3.2.2)\n",
            "Requirement already satisfied: anyio in /usr/local/lib/python3.11/dist-packages (from httpx<1,>=0.23.0->langsmith<0.4,>=0.1.17->langchain) (4.9.0)\n",
            "Requirement already satisfied: httpcore==1.* in /usr/local/lib/python3.11/dist-packages (from httpx<1,>=0.23.0->langsmith<0.4,>=0.1.17->langchain) (1.0.9)\n",
            "Requirement already satisfied: h11>=0.16 in /usr/local/lib/python3.11/dist-packages (from httpcore==1.*->httpx<1,>=0.23.0->langsmith<0.4,>=0.1.17->langchain) (0.16.0)\n",
            "Requirement already satisfied: jsonpointer>=1.9 in /usr/local/lib/python3.11/dist-packages (from jsonpatch<2.0,>=1.33->langchain-core<1.0.0,>=0.3.58->langchain) (3.0.0)\n",
            "Requirement already satisfied: mypy-extensions>=0.3.0 in /usr/local/lib/python3.11/dist-packages (from typing-inspect<1,>=0.4.0->dataclasses-json<0.7,>=0.5.7->langchain-community) (1.1.0)\n",
            "Requirement already satisfied: sniffio>=1.1 in /usr/local/lib/python3.11/dist-packages (from anyio->httpx<1,>=0.23.0->langsmith<0.4,>=0.1.17->langchain) (1.3.1)\n",
            "Requirement already satisfied: langchain in /usr/local/lib/python3.11/dist-packages (0.3.25)\n",
            "Requirement already satisfied: together in /usr/local/lib/python3.11/dist-packages (1.5.14)\n",
            "Requirement already satisfied: langchain-core<1.0.0,>=0.3.58 in /usr/local/lib/python3.11/dist-packages (from langchain) (0.3.65)\n",
            "Requirement already satisfied: langchain-text-splitters<1.0.0,>=0.3.8 in /usr/local/lib/python3.11/dist-packages (from langchain) (0.3.8)\n",
            "Requirement already satisfied: langsmith<0.4,>=0.1.17 in /usr/local/lib/python3.11/dist-packages (from langchain) (0.3.45)\n",
            "Requirement already satisfied: pydantic<3.0.0,>=2.7.4 in /usr/local/lib/python3.11/dist-packages (from langchain) (2.11.5)\n",
            "Requirement already satisfied: SQLAlchemy<3,>=1.4 in /usr/local/lib/python3.11/dist-packages (from langchain) (2.0.41)\n",
            "Requirement already satisfied: requests<3,>=2 in /usr/local/lib/python3.11/dist-packages (from langchain) (2.32.3)\n",
            "Requirement already satisfied: PyYAML>=5.3 in /usr/local/lib/python3.11/dist-packages (from langchain) (6.0.2)\n",
            "Requirement already satisfied: aiohttp<4.0.0,>=3.9.3 in /usr/local/lib/python3.11/dist-packages (from together) (3.11.15)\n",
            "Requirement already satisfied: click<9.0.0,>=8.1.7 in /usr/local/lib/python3.11/dist-packages (from together) (8.1.8)\n",
            "Requirement already satisfied: eval-type-backport<0.3.0,>=0.1.3 in /usr/local/lib/python3.11/dist-packages (from together) (0.2.2)\n",
            "Requirement already satisfied: filelock<4.0.0,>=3.13.1 in /usr/local/lib/python3.11/dist-packages (from together) (3.18.0)\n",
            "Requirement already satisfied: numpy>=1.23.5 in /usr/local/lib/python3.11/dist-packages (from together) (2.0.2)\n",
            "Requirement already satisfied: pillow<12.0.0,>=11.1.0 in /usr/local/lib/python3.11/dist-packages (from together) (11.2.1)\n",
            "Requirement already satisfied: rich<15.0.0,>=13.8.1 in /usr/local/lib/python3.11/dist-packages (from together) (13.9.4)\n",
            "Requirement already satisfied: tabulate<0.10.0,>=0.9.0 in /usr/local/lib/python3.11/dist-packages (from together) (0.9.0)\n",
            "Requirement already satisfied: tqdm<5.0.0,>=4.66.2 in /usr/local/lib/python3.11/dist-packages (from together) (4.67.1)\n",
            "Requirement already satisfied: typer<0.16,>=0.9 in /usr/local/lib/python3.11/dist-packages (from together) (0.15.4)\n",
            "Requirement already satisfied: aiohappyeyeballs>=2.3.0 in /usr/local/lib/python3.11/dist-packages (from aiohttp<4.0.0,>=3.9.3->together) (2.6.1)\n",
            "Requirement already satisfied: aiosignal>=1.1.2 in /usr/local/lib/python3.11/dist-packages (from aiohttp<4.0.0,>=3.9.3->together) (1.3.2)\n",
            "Requirement already satisfied: attrs>=17.3.0 in /usr/local/lib/python3.11/dist-packages (from aiohttp<4.0.0,>=3.9.3->together) (25.3.0)\n",
            "Requirement already satisfied: frozenlist>=1.1.1 in /usr/local/lib/python3.11/dist-packages (from aiohttp<4.0.0,>=3.9.3->together) (1.6.0)\n",
            "Requirement already satisfied: multidict<7.0,>=4.5 in /usr/local/lib/python3.11/dist-packages (from aiohttp<4.0.0,>=3.9.3->together) (6.4.4)\n",
            "Requirement already satisfied: propcache>=0.2.0 in /usr/local/lib/python3.11/dist-packages (from aiohttp<4.0.0,>=3.9.3->together) (0.3.1)\n",
            "Requirement already satisfied: yarl<2.0,>=1.17.0 in /usr/local/lib/python3.11/dist-packages (from aiohttp<4.0.0,>=3.9.3->together) (1.20.0)\n",
            "Requirement already satisfied: tenacity!=8.4.0,<10.0.0,>=8.1.0 in /usr/local/lib/python3.11/dist-packages (from langchain-core<1.0.0,>=0.3.58->langchain) (9.1.2)\n",
            "Requirement already satisfied: jsonpatch<2.0,>=1.33 in /usr/local/lib/python3.11/dist-packages (from langchain-core<1.0.0,>=0.3.58->langchain) (1.33)\n",
            "Requirement already satisfied: packaging<25,>=23.2 in /usr/local/lib/python3.11/dist-packages (from langchain-core<1.0.0,>=0.3.58->langchain) (24.2)\n",
            "Requirement already satisfied: typing-extensions>=4.7 in /usr/local/lib/python3.11/dist-packages (from langchain-core<1.0.0,>=0.3.58->langchain) (4.14.0)\n",
            "Requirement already satisfied: httpx<1,>=0.23.0 in /usr/local/lib/python3.11/dist-packages (from langsmith<0.4,>=0.1.17->langchain) (0.28.1)\n",
            "Requirement already satisfied: orjson<4.0.0,>=3.9.14 in /usr/local/lib/python3.11/dist-packages (from langsmith<0.4,>=0.1.17->langchain) (3.10.18)\n",
            "Requirement already satisfied: requests-toolbelt<2.0.0,>=1.0.0 in /usr/local/lib/python3.11/dist-packages (from langsmith<0.4,>=0.1.17->langchain) (1.0.0)\n",
            "Requirement already satisfied: zstandard<0.24.0,>=0.23.0 in /usr/local/lib/python3.11/dist-packages (from langsmith<0.4,>=0.1.17->langchain) (0.23.0)\n",
            "Requirement already satisfied: annotated-types>=0.6.0 in /usr/local/lib/python3.11/dist-packages (from pydantic<3.0.0,>=2.7.4->langchain) (0.7.0)\n",
            "Requirement already satisfied: pydantic-core==2.33.2 in /usr/local/lib/python3.11/dist-packages (from pydantic<3.0.0,>=2.7.4->langchain) (2.33.2)\n",
            "Requirement already satisfied: typing-inspection>=0.4.0 in /usr/local/lib/python3.11/dist-packages (from pydantic<3.0.0,>=2.7.4->langchain) (0.4.1)\n",
            "Requirement already satisfied: charset-normalizer<4,>=2 in /usr/local/lib/python3.11/dist-packages (from requests<3,>=2->langchain) (3.4.2)\n",
            "Requirement already satisfied: idna<4,>=2.5 in /usr/local/lib/python3.11/dist-packages (from requests<3,>=2->langchain) (3.10)\n",
            "Requirement already satisfied: urllib3<3,>=1.21.1 in /usr/local/lib/python3.11/dist-packages (from requests<3,>=2->langchain) (2.4.0)\n",
            "Requirement already satisfied: certifi>=2017.4.17 in /usr/local/lib/python3.11/dist-packages (from requests<3,>=2->langchain) (2025.4.26)\n",
            "Requirement already satisfied: markdown-it-py>=2.2.0 in /usr/local/lib/python3.11/dist-packages (from rich<15.0.0,>=13.8.1->together) (3.0.0)\n",
            "Requirement already satisfied: pygments<3.0.0,>=2.13.0 in /usr/local/lib/python3.11/dist-packages (from rich<15.0.0,>=13.8.1->together) (2.19.1)\n",
            "Requirement already satisfied: greenlet>=1 in /usr/local/lib/python3.11/dist-packages (from SQLAlchemy<3,>=1.4->langchain) (3.2.2)\n",
            "Requirement already satisfied: shellingham>=1.3.0 in /usr/local/lib/python3.11/dist-packages (from typer<0.16,>=0.9->together) (1.5.4)\n",
            "Requirement already satisfied: anyio in /usr/local/lib/python3.11/dist-packages (from httpx<1,>=0.23.0->langsmith<0.4,>=0.1.17->langchain) (4.9.0)\n",
            "Requirement already satisfied: httpcore==1.* in /usr/local/lib/python3.11/dist-packages (from httpx<1,>=0.23.0->langsmith<0.4,>=0.1.17->langchain) (1.0.9)\n",
            "Requirement already satisfied: h11>=0.16 in /usr/local/lib/python3.11/dist-packages (from httpcore==1.*->httpx<1,>=0.23.0->langsmith<0.4,>=0.1.17->langchain) (0.16.0)\n",
            "Requirement already satisfied: jsonpointer>=1.9 in /usr/local/lib/python3.11/dist-packages (from jsonpatch<2.0,>=1.33->langchain-core<1.0.0,>=0.3.58->langchain) (3.0.0)\n",
            "Requirement already satisfied: mdurl~=0.1 in /usr/local/lib/python3.11/dist-packages (from markdown-it-py>=2.2.0->rich<15.0.0,>=13.8.1->together) (0.1.2)\n",
            "Requirement already satisfied: sniffio>=1.1 in /usr/local/lib/python3.11/dist-packages (from anyio->httpx<1,>=0.23.0->langsmith<0.4,>=0.1.17->langchain) (1.3.1)\n",
            "Requirement already satisfied: langgraph in /usr/local/lib/python3.11/dist-packages (0.4.8)\n",
            "Requirement already satisfied: langchain-core>=0.1 in /usr/local/lib/python3.11/dist-packages (from langgraph) (0.3.65)\n",
            "Requirement already satisfied: langgraph-checkpoint>=2.0.26 in /usr/local/lib/python3.11/dist-packages (from langgraph) (2.0.26)\n",
            "Requirement already satisfied: langgraph-prebuilt>=0.2.0 in /usr/local/lib/python3.11/dist-packages (from langgraph) (0.2.2)\n",
            "Requirement already satisfied: langgraph-sdk>=0.1.42 in /usr/local/lib/python3.11/dist-packages (from langgraph) (0.1.70)\n",
            "Requirement already satisfied: pydantic>=2.7.4 in /usr/local/lib/python3.11/dist-packages (from langgraph) (2.11.5)\n",
            "Requirement already satisfied: xxhash>=3.5.0 in /usr/local/lib/python3.11/dist-packages (from langgraph) (3.5.0)\n",
            "Requirement already satisfied: langsmith<0.4,>=0.3.45 in /usr/local/lib/python3.11/dist-packages (from langchain-core>=0.1->langgraph) (0.3.45)\n",
            "Requirement already satisfied: tenacity!=8.4.0,<10.0.0,>=8.1.0 in /usr/local/lib/python3.11/dist-packages (from langchain-core>=0.1->langgraph) (9.1.2)\n",
            "Requirement already satisfied: jsonpatch<2.0,>=1.33 in /usr/local/lib/python3.11/dist-packages (from langchain-core>=0.1->langgraph) (1.33)\n",
            "Requirement already satisfied: PyYAML>=5.3 in /usr/local/lib/python3.11/dist-packages (from langchain-core>=0.1->langgraph) (6.0.2)\n",
            "Requirement already satisfied: packaging<25,>=23.2 in /usr/local/lib/python3.11/dist-packages (from langchain-core>=0.1->langgraph) (24.2)\n",
            "Requirement already satisfied: typing-extensions>=4.7 in /usr/local/lib/python3.11/dist-packages (from langchain-core>=0.1->langgraph) (4.14.0)\n",
            "Requirement already satisfied: ormsgpack<2.0.0,>=1.8.0 in /usr/local/lib/python3.11/dist-packages (from langgraph-checkpoint>=2.0.26->langgraph) (1.10.0)\n",
            "Requirement already satisfied: httpx>=0.25.2 in /usr/local/lib/python3.11/dist-packages (from langgraph-sdk>=0.1.42->langgraph) (0.28.1)\n",
            "Requirement already satisfied: orjson>=3.10.1 in /usr/local/lib/python3.11/dist-packages (from langgraph-sdk>=0.1.42->langgraph) (3.10.18)\n",
            "Requirement already satisfied: annotated-types>=0.6.0 in /usr/local/lib/python3.11/dist-packages (from pydantic>=2.7.4->langgraph) (0.7.0)\n",
            "Requirement already satisfied: pydantic-core==2.33.2 in /usr/local/lib/python3.11/dist-packages (from pydantic>=2.7.4->langgraph) (2.33.2)\n",
            "Requirement already satisfied: typing-inspection>=0.4.0 in /usr/local/lib/python3.11/dist-packages (from pydantic>=2.7.4->langgraph) (0.4.1)\n",
            "Requirement already satisfied: anyio in /usr/local/lib/python3.11/dist-packages (from httpx>=0.25.2->langgraph-sdk>=0.1.42->langgraph) (4.9.0)\n",
            "Requirement already satisfied: certifi in /usr/local/lib/python3.11/dist-packages (from httpx>=0.25.2->langgraph-sdk>=0.1.42->langgraph) (2025.4.26)\n",
            "Requirement already satisfied: httpcore==1.* in /usr/local/lib/python3.11/dist-packages (from httpx>=0.25.2->langgraph-sdk>=0.1.42->langgraph) (1.0.9)\n",
            "Requirement already satisfied: idna in /usr/local/lib/python3.11/dist-packages (from httpx>=0.25.2->langgraph-sdk>=0.1.42->langgraph) (3.10)\n",
            "Requirement already satisfied: h11>=0.16 in /usr/local/lib/python3.11/dist-packages (from httpcore==1.*->httpx>=0.25.2->langgraph-sdk>=0.1.42->langgraph) (0.16.0)\n",
            "Requirement already satisfied: jsonpointer>=1.9 in /usr/local/lib/python3.11/dist-packages (from jsonpatch<2.0,>=1.33->langchain-core>=0.1->langgraph) (3.0.0)\n",
            "Requirement already satisfied: requests<3,>=2 in /usr/local/lib/python3.11/dist-packages (from langsmith<0.4,>=0.3.45->langchain-core>=0.1->langgraph) (2.32.3)\n",
            "Requirement already satisfied: requests-toolbelt<2.0.0,>=1.0.0 in /usr/local/lib/python3.11/dist-packages (from langsmith<0.4,>=0.3.45->langchain-core>=0.1->langgraph) (1.0.0)\n",
            "Requirement already satisfied: zstandard<0.24.0,>=0.23.0 in /usr/local/lib/python3.11/dist-packages (from langsmith<0.4,>=0.3.45->langchain-core>=0.1->langgraph) (0.23.0)\n",
            "Requirement already satisfied: charset-normalizer<4,>=2 in /usr/local/lib/python3.11/dist-packages (from requests<3,>=2->langsmith<0.4,>=0.3.45->langchain-core>=0.1->langgraph) (3.4.2)\n",
            "Requirement already satisfied: urllib3<3,>=1.21.1 in /usr/local/lib/python3.11/dist-packages (from requests<3,>=2->langsmith<0.4,>=0.3.45->langchain-core>=0.1->langgraph) (2.4.0)\n",
            "Requirement already satisfied: sniffio>=1.1 in /usr/local/lib/python3.11/dist-packages (from anyio->httpx>=0.25.2->langgraph-sdk>=0.1.42->langgraph) (1.3.1)\n",
            "Requirement already satisfied: evaluate in /usr/local/lib/python3.11/dist-packages (0.4.3)\n",
            "Requirement already satisfied: datasets>=2.0.0 in /usr/local/lib/python3.11/dist-packages (from evaluate) (2.14.4)\n",
            "Requirement already satisfied: numpy>=1.17 in /usr/local/lib/python3.11/dist-packages (from evaluate) (2.0.2)\n",
            "Requirement already satisfied: dill in /usr/local/lib/python3.11/dist-packages (from evaluate) (0.3.7)\n",
            "Requirement already satisfied: pandas in /usr/local/lib/python3.11/dist-packages (from evaluate) (2.2.2)\n",
            "Requirement already satisfied: requests>=2.19.0 in /usr/local/lib/python3.11/dist-packages (from evaluate) (2.32.3)\n",
            "Requirement already satisfied: tqdm>=4.62.1 in /usr/local/lib/python3.11/dist-packages (from evaluate) (4.67.1)\n",
            "Requirement already satisfied: xxhash in /usr/local/lib/python3.11/dist-packages (from evaluate) (3.5.0)\n",
            "Requirement already satisfied: multiprocess in /usr/local/lib/python3.11/dist-packages (from evaluate) (0.70.15)\n",
            "Requirement already satisfied: fsspec>=2021.05.0 in /usr/local/lib/python3.11/dist-packages (from fsspec[http]>=2021.05.0->evaluate) (2025.3.2)\n",
            "Requirement already satisfied: huggingface-hub>=0.7.0 in /usr/local/lib/python3.11/dist-packages (from evaluate) (0.32.4)\n",
            "Requirement already satisfied: packaging in /usr/local/lib/python3.11/dist-packages (from evaluate) (24.2)\n",
            "Requirement already satisfied: pyarrow>=8.0.0 in /usr/local/lib/python3.11/dist-packages (from datasets>=2.0.0->evaluate) (18.1.0)\n",
            "Requirement already satisfied: aiohttp in /usr/local/lib/python3.11/dist-packages (from datasets>=2.0.0->evaluate) (3.11.15)\n",
            "Requirement already satisfied: pyyaml>=5.1 in /usr/local/lib/python3.11/dist-packages (from datasets>=2.0.0->evaluate) (6.0.2)\n",
            "Requirement already satisfied: filelock in /usr/local/lib/python3.11/dist-packages (from huggingface-hub>=0.7.0->evaluate) (3.18.0)\n",
            "Requirement already satisfied: typing-extensions>=3.7.4.3 in /usr/local/lib/python3.11/dist-packages (from huggingface-hub>=0.7.0->evaluate) (4.14.0)\n",
            "Requirement already satisfied: hf-xet<2.0.0,>=1.1.2 in /usr/local/lib/python3.11/dist-packages (from huggingface-hub>=0.7.0->evaluate) (1.1.2)\n",
            "Requirement already satisfied: charset-normalizer<4,>=2 in /usr/local/lib/python3.11/dist-packages (from requests>=2.19.0->evaluate) (3.4.2)\n",
            "Requirement already satisfied: idna<4,>=2.5 in /usr/local/lib/python3.11/dist-packages (from requests>=2.19.0->evaluate) (3.10)\n",
            "Requirement already satisfied: urllib3<3,>=1.21.1 in /usr/local/lib/python3.11/dist-packages (from requests>=2.19.0->evaluate) (2.4.0)\n",
            "Requirement already satisfied: certifi>=2017.4.17 in /usr/local/lib/python3.11/dist-packages (from requests>=2.19.0->evaluate) (2025.4.26)\n",
            "Requirement already satisfied: python-dateutil>=2.8.2 in /usr/local/lib/python3.11/dist-packages (from pandas->evaluate) (2.9.0.post0)\n",
            "Requirement already satisfied: pytz>=2020.1 in /usr/local/lib/python3.11/dist-packages (from pandas->evaluate) (2025.2)\n",
            "Requirement already satisfied: tzdata>=2022.7 in /usr/local/lib/python3.11/dist-packages (from pandas->evaluate) (2025.2)\n",
            "Requirement already satisfied: aiohappyeyeballs>=2.3.0 in /usr/local/lib/python3.11/dist-packages (from aiohttp->datasets>=2.0.0->evaluate) (2.6.1)\n",
            "Requirement already satisfied: aiosignal>=1.1.2 in /usr/local/lib/python3.11/dist-packages (from aiohttp->datasets>=2.0.0->evaluate) (1.3.2)\n",
            "Requirement already satisfied: attrs>=17.3.0 in /usr/local/lib/python3.11/dist-packages (from aiohttp->datasets>=2.0.0->evaluate) (25.3.0)\n",
            "Requirement already satisfied: frozenlist>=1.1.1 in /usr/local/lib/python3.11/dist-packages (from aiohttp->datasets>=2.0.0->evaluate) (1.6.0)\n",
            "Requirement already satisfied: multidict<7.0,>=4.5 in /usr/local/lib/python3.11/dist-packages (from aiohttp->datasets>=2.0.0->evaluate) (6.4.4)\n",
            "Requirement already satisfied: propcache>=0.2.0 in /usr/local/lib/python3.11/dist-packages (from aiohttp->datasets>=2.0.0->evaluate) (0.3.1)\n",
            "Requirement already satisfied: yarl<2.0,>=1.17.0 in /usr/local/lib/python3.11/dist-packages (from aiohttp->datasets>=2.0.0->evaluate) (1.20.0)\n",
            "Requirement already satisfied: six>=1.5 in /usr/local/lib/python3.11/dist-packages (from python-dateutil>=2.8.2->pandas->evaluate) (1.17.0)\n",
            "Requirement already satisfied: bert_score in /usr/local/lib/python3.11/dist-packages (0.3.13)\n",
            "Requirement already satisfied: torch>=1.0.0 in /usr/local/lib/python3.11/dist-packages (from bert_score) (2.6.0+cu124)\n",
            "Requirement already satisfied: pandas>=1.0.1 in /usr/local/lib/python3.11/dist-packages (from bert_score) (2.2.2)\n",
            "Requirement already satisfied: transformers>=3.0.0 in /usr/local/lib/python3.11/dist-packages (from bert_score) (4.52.4)\n",
            "Requirement already satisfied: numpy in /usr/local/lib/python3.11/dist-packages (from bert_score) (2.0.2)\n",
            "Requirement already satisfied: requests in /usr/local/lib/python3.11/dist-packages (from bert_score) (2.32.3)\n",
            "Requirement already satisfied: tqdm>=4.31.1 in /usr/local/lib/python3.11/dist-packages (from bert_score) (4.67.1)\n",
            "Requirement already satisfied: matplotlib in /usr/local/lib/python3.11/dist-packages (from bert_score) (3.10.0)\n",
            "Requirement already satisfied: packaging>=20.9 in /usr/local/lib/python3.11/dist-packages (from bert_score) (24.2)\n",
            "Requirement already satisfied: python-dateutil>=2.8.2 in /usr/local/lib/python3.11/dist-packages (from pandas>=1.0.1->bert_score) (2.9.0.post0)\n",
            "Requirement already satisfied: pytz>=2020.1 in /usr/local/lib/python3.11/dist-packages (from pandas>=1.0.1->bert_score) (2025.2)\n",
            "Requirement already satisfied: tzdata>=2022.7 in /usr/local/lib/python3.11/dist-packages (from pandas>=1.0.1->bert_score) (2025.2)\n",
            "Requirement already satisfied: filelock in /usr/local/lib/python3.11/dist-packages (from torch>=1.0.0->bert_score) (3.18.0)\n",
            "Requirement already satisfied: typing-extensions>=4.10.0 in /usr/local/lib/python3.11/dist-packages (from torch>=1.0.0->bert_score) (4.14.0)\n",
            "Requirement already satisfied: networkx in /usr/local/lib/python3.11/dist-packages (from torch>=1.0.0->bert_score) (3.5)\n",
            "Requirement already satisfied: jinja2 in /usr/local/lib/python3.11/dist-packages (from torch>=1.0.0->bert_score) (3.1.6)\n",
            "Requirement already satisfied: fsspec in /usr/local/lib/python3.11/dist-packages (from torch>=1.0.0->bert_score) (2025.3.2)\n",
            "Requirement already satisfied: nvidia-cuda-nvrtc-cu12==12.4.127 in /usr/local/lib/python3.11/dist-packages (from torch>=1.0.0->bert_score) (12.4.127)\n",
            "Requirement already satisfied: nvidia-cuda-runtime-cu12==12.4.127 in /usr/local/lib/python3.11/dist-packages (from torch>=1.0.0->bert_score) (12.4.127)\n",
            "Requirement already satisfied: nvidia-cuda-cupti-cu12==12.4.127 in /usr/local/lib/python3.11/dist-packages (from torch>=1.0.0->bert_score) (12.4.127)\n",
            "Requirement already satisfied: nvidia-cudnn-cu12==9.1.0.70 in /usr/local/lib/python3.11/dist-packages (from torch>=1.0.0->bert_score) (9.1.0.70)\n",
            "Requirement already satisfied: nvidia-cublas-cu12==12.4.5.8 in /usr/local/lib/python3.11/dist-packages (from torch>=1.0.0->bert_score) (12.4.5.8)\n",
            "Requirement already satisfied: nvidia-cufft-cu12==11.2.1.3 in /usr/local/lib/python3.11/dist-packages (from torch>=1.0.0->bert_score) (11.2.1.3)\n",
            "Requirement already satisfied: nvidia-curand-cu12==10.3.5.147 in /usr/local/lib/python3.11/dist-packages (from torch>=1.0.0->bert_score) (10.3.5.147)\n",
            "Requirement already satisfied: nvidia-cusolver-cu12==11.6.1.9 in /usr/local/lib/python3.11/dist-packages (from torch>=1.0.0->bert_score) (11.6.1.9)\n",
            "Requirement already satisfied: nvidia-cusparse-cu12==12.3.1.170 in /usr/local/lib/python3.11/dist-packages (from torch>=1.0.0->bert_score) (12.3.1.170)\n",
            "Requirement already satisfied: nvidia-cusparselt-cu12==0.6.2 in /usr/local/lib/python3.11/dist-packages (from torch>=1.0.0->bert_score) (0.6.2)\n",
            "Requirement already satisfied: nvidia-nccl-cu12==2.21.5 in /usr/local/lib/python3.11/dist-packages (from torch>=1.0.0->bert_score) (2.21.5)\n",
            "Requirement already satisfied: nvidia-nvtx-cu12==12.4.127 in /usr/local/lib/python3.11/dist-packages (from torch>=1.0.0->bert_score) (12.4.127)\n",
            "Requirement already satisfied: nvidia-nvjitlink-cu12==12.4.127 in /usr/local/lib/python3.11/dist-packages (from torch>=1.0.0->bert_score) (12.4.127)\n",
            "Requirement already satisfied: triton==3.2.0 in /usr/local/lib/python3.11/dist-packages (from torch>=1.0.0->bert_score) (3.2.0)\n",
            "Requirement already satisfied: sympy==1.13.1 in /usr/local/lib/python3.11/dist-packages (from torch>=1.0.0->bert_score) (1.13.1)\n",
            "Requirement already satisfied: mpmath<1.4,>=1.1.0 in /usr/local/lib/python3.11/dist-packages (from sympy==1.13.1->torch>=1.0.0->bert_score) (1.3.0)\n",
            "Requirement already satisfied: huggingface-hub<1.0,>=0.30.0 in /usr/local/lib/python3.11/dist-packages (from transformers>=3.0.0->bert_score) (0.32.4)\n",
            "Requirement already satisfied: pyyaml>=5.1 in /usr/local/lib/python3.11/dist-packages (from transformers>=3.0.0->bert_score) (6.0.2)\n",
            "Requirement already satisfied: regex!=2019.12.17 in /usr/local/lib/python3.11/dist-packages (from transformers>=3.0.0->bert_score) (2024.11.6)\n",
            "Requirement already satisfied: tokenizers<0.22,>=0.21 in /usr/local/lib/python3.11/dist-packages (from transformers>=3.0.0->bert_score) (0.21.1)\n",
            "Requirement already satisfied: safetensors>=0.4.3 in /usr/local/lib/python3.11/dist-packages (from transformers>=3.0.0->bert_score) (0.5.3)\n",
            "Requirement already satisfied: contourpy>=1.0.1 in /usr/local/lib/python3.11/dist-packages (from matplotlib->bert_score) (1.3.2)\n",
            "Requirement already satisfied: cycler>=0.10 in /usr/local/lib/python3.11/dist-packages (from matplotlib->bert_score) (0.12.1)\n",
            "Requirement already satisfied: fonttools>=4.22.0 in /usr/local/lib/python3.11/dist-packages (from matplotlib->bert_score) (4.58.1)\n",
            "Requirement already satisfied: kiwisolver>=1.3.1 in /usr/local/lib/python3.11/dist-packages (from matplotlib->bert_score) (1.4.8)\n",
            "Requirement already satisfied: pillow>=8 in /usr/local/lib/python3.11/dist-packages (from matplotlib->bert_score) (11.2.1)\n",
            "Requirement already satisfied: pyparsing>=2.3.1 in /usr/local/lib/python3.11/dist-packages (from matplotlib->bert_score) (3.2.3)\n",
            "Requirement already satisfied: charset-normalizer<4,>=2 in /usr/local/lib/python3.11/dist-packages (from requests->bert_score) (3.4.2)\n",
            "Requirement already satisfied: idna<4,>=2.5 in /usr/local/lib/python3.11/dist-packages (from requests->bert_score) (3.10)\n",
            "Requirement already satisfied: urllib3<3,>=1.21.1 in /usr/local/lib/python3.11/dist-packages (from requests->bert_score) (2.4.0)\n",
            "Requirement already satisfied: certifi>=2017.4.17 in /usr/local/lib/python3.11/dist-packages (from requests->bert_score) (2025.4.26)\n",
            "Requirement already satisfied: hf-xet<2.0.0,>=1.1.2 in /usr/local/lib/python3.11/dist-packages (from huggingface-hub<1.0,>=0.30.0->transformers>=3.0.0->bert_score) (1.1.2)\n",
            "Requirement already satisfied: six>=1.5 in /usr/local/lib/python3.11/dist-packages (from python-dateutil>=2.8.2->pandas>=1.0.1->bert_score) (1.17.0)\n",
            "Requirement already satisfied: MarkupSafe>=2.0 in /usr/local/lib/python3.11/dist-packages (from jinja2->torch>=1.0.0->bert_score) (3.0.2)\n"
          ]
        }
      ],
      "source": [
        "# Installation des bibliothèques nécessaires\n",
        "!pip install -U langchain langchain-community\n",
        "!pip install langchain together\n",
        "!pip install langgraph\n",
        "!pip install evaluate\n",
        "!pip install bert_score\n"
      ]
    },
    {
      "cell_type": "code",
      "execution_count": 2,
      "id": "909c68aa-cf95-47bd-9948-b7f2e5015a16",
      "metadata": {
        "id": "909c68aa-cf95-47bd-9948-b7f2e5015a16"
      },
      "outputs": [],
      "source": [
        "# Importation des composants\n",
        "from langchain.llms import Together\n",
        "from langchain.prompts import PromptTemplate\n",
        "\n",
        "import time\n",
        "import pandas as pd\n",
        "from google.colab import drive\n",
        "\n",
        "from evaluate import load\n",
        "from bert_score import score\n",
        "\n",
        "from statistics import mean\n",
        "\n",
        "from typing import Annotated\n",
        "from typing_extensions import TypedDict\n",
        "\n",
        "from langgraph.graph import StateGraph, START\n",
        "from langgraph.graph.message import add_messages"
      ]
    },
    {
      "cell_type": "code",
      "execution_count": 3,
      "id": "c887ec81-6c19-433d-ad17-54521d7187e1",
      "metadata": {
        "id": "c887ec81-6c19-433d-ad17-54521d7187e1",
        "colab": {
          "base_uri": "https://localhost:8080/"
        },
        "outputId": "2251bfce-8e09-47d6-bfb8-406a309b610e"
      },
      "outputs": [
        {
          "output_type": "stream",
          "name": "stderr",
          "text": [
            "<ipython-input-3-691199504>:2: LangChainDeprecationWarning: The class `Together` was deprecated in LangChain 0.0.12 and will be removed in 1.0. An updated version of the class exists in the :class:`~langchain-together package and should be used instead. To use it run `pip install -U :class:`~langchain-together` and import as `from :class:`~langchain_together import Together``.\n",
            "  llm = Together(\n"
          ]
        }
      ],
      "source": [
        "# Initialisation du modèle de langage (LLM) via l'API Together\n",
        "llm = Together(\n",
        "    model=\"mistralai/Mistral-7B-Instruct-v0.2\",\n",
        "    temperature=0.7,\n",
        "    max_tokens=7000,\n",
        "    together_api_key=\"1aa19d9568dc960ec217156fc5d5d657dae558d5707a3d8f1e99d67d60c128c4\"\n",
        ")\n"
      ]
    },
    {
      "cell_type": "code",
      "execution_count": 4,
      "id": "48e18346-f77d-483e-bf17-cbd04cd65a11",
      "metadata": {
        "id": "48e18346-f77d-483e-bf17-cbd04cd65a11"
      },
      "outputs": [],
      "source": [
        "# Liste d'exemples d'histoires pulp fiction (Datasets)\n",
        "examples=[\n",
        "     {\n",
        "      \"consigne\": \"Écris une histoire pulp fiction où un détective doit infiltrer un syndicat du crime chinois dans le quartier de Chinatown.\",\n",
        "      \"histoire\": \"Les lanternes rouges de Chinatown projetaient leurs lueurs sanglantes sur les ruelles tortueuses de San Francisco, où Mike Chen, un détective sino-américain, se préparait à sa plus dangereuse mission. Engagé par une mystérieuse femme aux yeux de jade pour retrouver son frère disparu, Chen se retrouva rapidement plongé dans l'univers des Triades. Sous couverture comme joueur dans un casino clandestin, il découvrit que le Dragon Rouge, la plus puissante des Triades, orchestrait un vaste trafic d'antiquités volées. Mais plus il s'enfonçait dans ce monde de traditions ancestrales et de violence moderne, plus Chen réalisait que sa cliente n'était pas celle qu'elle prétendait être. Entre les rituels secrets des Triades et les vengeances familiales qui remontaient à trois générations, Chen devait naviguer dans un labyrinthe de loyautés où chaque faux pas pouvait être le dernier. Dans un final sanglant au temple du Dragon Rouge, Chen fut confronté à un choix impossible : trahir son héritage ou sacrifier sa mission.\"\n",
        "    },\n",
        "    {\n",
        "      \"consigne\": \"Écris une histoire pulp fiction sur un détective confronté à une série de meurtres rituels dans une ville industrielle en déclin.\",\n",
        "      \"histoire\": \"Dans les ruines fumantes de Steel City, où les cheminées d'usines abandonnées crachaient encore leurs dernières volutes toxiques, l'inspecteur Sarah Blackwood suivait la piste d'un tueur méthodique. Les corps, disposés selon un motif ésotérique dans les vestiges des aciéries, portaient tous la même marque : un pentagramme gravé au fer rouge. Chaque nouvelle victime rapprochait Sarah d'une terrible vérité : les meurtres reproduisaient un rituel décrit dans un grimoire disparu depuis les années 30, époque où la ville était au sommet de sa gloire industrielle. Alors que les indices la menaient vers un cercle secret d'industriels pratiquant la magie noire pour restaurer la prospérité de la ville, Sarah découvrit que son propre grand-père, ancien magnat de l'acier, était impliqué dans ces rituels macabres. Dans les entrailles rouillées de la dernière aciérie encore debout, elle devrait affronter non seulement le tueur, mais aussi les démons du passé de sa famille.\"\n",
        "    },\n",
        "    {\n",
        "      \"consigne\": \"Écris une histoire pulp fiction mettant en scène un ancien flic devenu détective privé qui enquête sur la corruption au sein de son ancien département.\",\n",
        "      \"histoire\": \"Les rues de Metro City n'avaient pas changé depuis que Jack Morrison avait rendu son badge, mais lui n'était plus le même homme. Trois ans après avoir été forcé de démissionner pour avoir dénoncé la corruption, une jeune recrue lui demanda de l'aide : des preuves disparaissaient mystérieusement des scellés, des témoins se rétractaient inexplicablement. En creusant l'affaire, Morrison découvrit un réseau tentaculaire dirigé par son ancien partenaire, devenu capitaine, qui monnayait la protection de la police auprès des cartels de drogue. Chaque indice le ramenait à cette nuit fatidique où il avait surpris des collègues en train de faire disparaître des preuves, la même nuit où sa femme avait eu un 'accident' de voiture. Armé de son appareil photo et de ses vieux contacts, Morrison s'enfonça dans les bas-fonds de la ville, où la frontière entre la loi et le crime s'effaçait dans la brume des néons. La vérité qu'il découvrit menaçait non seulement de détruire le département, mais aussi de révéler que la corruption remontait jusqu'aux plus hautes sphères de la ville.\"\n",
        "    },\n",
        "    {\n",
        "      \"consigne\": \"Écris une histoire pulp fiction où une détective traque un voleur d'œuvres d'art dans le monde des galeries huppées.\",\n",
        "      \"histoire\": \"Les vernissages de Manhattan cachaient bien leur jeu, mais Elena Vasquez savait que derrière les sourires mondains et les coupes de champagne se tramait le plus grand coup du siècle. Une série de vols sophistiqués avait secoué le monde de l'art, chaque tableau dérobé étant remplacé par une copie parfaite qui n'était découverte que des mois plus tard. La piste la menait vers Augustus Vale, un restaurateur d'art réputé dont le charme n'avait d'égal que le mystère qui l'entourait. Plus Elena s'approchait de la vérité, plus elle se retrouvait fascinée par cet homme qui semblait danser sur la ligne entre l'art et le crime. Dans les sous-sols secrets des galeries, elle découvrit que les vols servaient à financer une opération bien plus sinistre : le blanchiment d'argent à l'échelle internationale à travers le marché de l'art. Le jeu du chat et de la souris entre Elena et Vale atteignit son paroxysme lors d'une vente aux enchères où des millions étaient en jeu, et où la frontière entre le chasseur et la proie devint aussi floue qu'une toile impressionniste.\"\n",
        "    },\n",
        "    {\n",
        "      \"consigne\": \"Écris une histoire pulp fiction sur un détective privé engagé pour retrouver l'héritier disparu d'une famille de la haute société.\",\n",
        "      \"histoire\": \"Les gratte-ciels de Gold Coast projetaient leurs ombres démesurées sur les quartiers huppés où vivait la famille Blackwood, dynastie industrielle aux secrets aussi profonds que leurs coffres-forts. Ray Donovan, détective privé habitué aux affaires sordides, fut engagé par la matriarche pour retrouver son petit-fils Thomas, disparu depuis trois mois. L'enquête le mena des clubs privés aux repaires underground, où il découvrit que le jeune héritier menait une double vie, infiltrant des cercles anarchistes qui planifiaient de faire tomber l'empire familial. Mais plus Donovan creusait, plus il réalisait que Thomas n'était pas la victime : il était l'architecte d'un plan complexe visant à exposer les pratiques criminelles de sa propre famille. Entre les intrigues familiales dignes de Shakespeare et les complots d'entreprise, Donovan se retrouva pris dans un étau où chaque partie cherchait à l'utiliser. Dans les bureaux vertigineux de la Blackwood Tower, il devrait choisir entre la vérité et la justice, sachant que chaque option avait un prix mortel.\"\n",
        "    }\n",
        "  ]\n",
        "\n",
        "\n",
        "\n",
        "\n"
      ]
    },
    {
      "cell_type": "code",
      "execution_count": 5,
      "id": "263ce700-0eae-4edb-af73-58d1d0de5485",
      "metadata": {
        "id": "263ce700-0eae-4edb-af73-58d1d0de5485"
      },
      "outputs": [],
      "source": [
        "# Exemple de prompt pour générer une histoire pulp fiction en français.\n",
        "template=  \"\"\"\n",
        "Tu es un scénariste. Rédige une histoire pulp fiction en français à partir de la consigne suivante :\n",
        "\n",
        "Consigne : {consigne}\n",
        "\n",
        "Inspire-toi des exemples suivants pour adopter le même style et ton narratif :\n",
        "\n",
        "{examples}\n",
        "\n",
        "Histoire :\n",
        "\n",
        "\"\"\"\n"
      ]
    },
    {
      "cell_type": "code",
      "execution_count": 7,
      "id": "e55125c6-4cda-4b76-a0d0-6538fb969c3f",
      "metadata": {
        "id": "e55125c6-4cda-4b76-a0d0-6538fb969c3f"
      },
      "outputs": [],
      "source": [
        "# Création d'un prompt personnalisé à l'aide de PromptTemplate\n",
        "prompt=PromptTemplate(template=template,\n",
        "                             input_variable=[\"consigne\"]).partial(examples= examples)"
      ]
    },
    {
      "cell_type": "code",
      "execution_count": 8,
      "id": "1098e544-0fdf-46e1-a6d2-ee23a17bc932",
      "metadata": {
        "id": "1098e544-0fdf-46e1-a6d2-ee23a17bc932",
        "colab": {
          "base_uri": "https://localhost:8080/",
          "height": 122
        },
        "outputId": "3fa38ba6-0707-4d51-8603-81fdd781e824"
      },
      "outputs": [
        {
          "output_type": "execute_result",
          "data": {
            "text/plain": [
              "\"Dans les savanes arides d'Outback, la lionne Mia et la grenouille François partageaient la vie la plus simple : chasser les animaux de la prairie et se reposer sous les arbres. Mais cette idylle soudaine se brisa avec l'arrivée du sorcier maléfique Zarko. Celui-ci, obsédé par sa vague ambition de dominer le monde, avait découvert une pierre magique perdue depuis des millénaires : la Pierre de la Vie. Pour l'utiliser, il avait besoin de l'aide d'un serviteur puissant : et c'était pourquoi il avait demandé à la Grenouille François de l'appeler.\\n\\nMais la Grenouille François était une grenouille ordinaire, sans pouvoir magique. Pour l'aider, Mia et François décidèrent de l'aider à trouver la pierre. À travers les étendues désertiques, ils durent affronter de nombreux obstacles : des lapins géants, des serpents venimeux, des rongeurs énormes. Mais la plus grande difficulté vint de Zarko lui-même : il avait le pouvoir de se transformer en toutes sortes d'animaux, et il essayait à chaque fois de les tromper pour que Mia et François ne ne trouvent pas la pierre.\\n\\nFinalement, Mia et François réussirent à trouver la Pierre de la Vie, cachée dans un trésor secret sous une grande roche. Zarko, qui les avait suivis, tenta de s'emparer de la pierre, mais Mia le défia en duel. Malgré sa transformation en lion, Zarko fut vaincu par la force de Mia et François. La Pierre de la Vie fut alors enterrée à nouveau, et Mia et François retournèrent à leur vie paisible.\\n\\nMais Zarko était loin de mourir. Il se réveilla dans une grotte sombre, et tout autour de lui, des ombres grotesques l'observaient. Il comprit alors que c'était la Vengeance des Animaux qu'il avait blessés sur son chemin : les lapins, les serpents, les rongeurs qui l'avaient chassé. Et maintenant qu'il avait été vaincu, il allait leur apporter le mal qu'il avait fait.\""
            ],
            "application/vnd.google.colaboratory.intrinsic+json": {
              "type": "string"
            }
          },
          "metadata": {},
          "execution_count": 8
        }
      ],
      "source": [
        "# Formatage du prompt avec une consigne spécifique\n",
        "formatted_prompt = prompt.format_prompt(consigne=\"Crée une histoire pulp fiction pour enfants sur un lion et une grenouille. L’histoire doit avoir une vraie fin et ne pas dépasser 3000 mots.\")\n",
        "\n",
        "# Appel direct du modèle de langage (LLM) avec le prompt formaté\n",
        "llm.invoke(formatted_prompt)"
      ]
    },
    {
      "cell_type": "markdown",
      "source": [],
      "metadata": {
        "id": "4wLSBIJhHC0_"
      },
      "id": "4wLSBIJhHC0_"
    },
    {
      "cell_type": "code",
      "source": [
        "# Génére une histoire à partir d’une consigne avec prompt personnalisé\n",
        "def generation_histoire_avec_prompt(consigne):\n",
        "    try:\n",
        "        formatted_prompt = prompt.format_prompt(consigne=consigne)\n",
        "        result = llm.invoke(formatted_prompt)\n",
        "        time.sleep(1)\n",
        "        if result is not None:\n",
        "            return result\n",
        "        else:\n",
        "            return \"\"\n",
        "    except Exception as e:\n",
        "        print(f\"Error processing consigne: {consigne[:50]}... Error: {e}\")\n",
        "        return f\"ERROR: {e}\"\n"
      ],
      "metadata": {
        "id": "50chaVeGt8lJ"
      },
      "id": "50chaVeGt8lJ",
      "execution_count": 9,
      "outputs": []
    },
    {
      "cell_type": "code",
      "source": [
        "# Montage de Google Drive dans l'environnement Colab pour accéder aux fichiers stockés dans le Drive.\n",
        "drive.mount('/content/drive')\n"
      ],
      "metadata": {
        "id": "ED6MGgJgx--u",
        "colab": {
          "base_uri": "https://localhost:8080/"
        },
        "outputId": "c88aa776-2c4a-4b4f-c08e-c99d5f290d73"
      },
      "id": "ED6MGgJgx--u",
      "execution_count": 10,
      "outputs": [
        {
          "output_type": "stream",
          "name": "stdout",
          "text": [
            "Mounted at /content/drive\n"
          ]
        }
      ]
    },
    {
      "cell_type": "code",
      "source": [
        "# Type de génération : avec prompt + exemples (style pulp fiction)\n",
        "# Chargement du fichier Excel\n",
        "consignes_avec_prompt  = pd.read_excel('/content/drive/My Drive/data.xlsx')\n",
        "# Génère une histoire à chaque ligne de la colonne 'consigne' du DataFrame `data`.\n",
        "consignes_avec_prompt['histoire_model'] = consignes_avec_prompt['consigne'].apply(generation_histoire_avec_prompt)\n",
        "# Sauvegarde du DataFrame `data` dans un fichier Excel\n",
        "consignes_avec_prompt.to_excel('/content/drive/My Drive/consignes_avec_prompt.xlsx', index=False)"
      ],
      "metadata": {
        "colab": {
          "base_uri": "https://localhost:8080/"
        },
        "id": "bSIO_5H1vuK_",
        "outputId": "b1d5f29d-3576-4787-dcb9-8d0e0ded9ce7"
      },
      "id": "bSIO_5H1vuK_",
      "execution_count": 11,
      "outputs": [
        {
          "output_type": "stream",
          "name": "stdout",
          "text": [
            "Error processing consigne: Écris-moi une histoire  sur une femme fatale en ca... Error: Together Server: Error 500\n",
            "Error processing consigne: Imagine une histoire pulp fiction dans le style de... Error: Together Server: Error 500\n"
          ]
        }
      ]
    },
    {
      "cell_type": "code",
      "source": [
        "# Génére une histoire simplement à partir d’une consigne brute (sans prompt)\n",
        "def generer_histoire_sans_prompt(consigne):\n",
        "    try:\n",
        "        result = llm.invoke(consigne)\n",
        "        time.sleep(1)\n",
        "        if result is not None:\n",
        "            return result\n",
        "        else:\n",
        "            return \"\"\n",
        "    except Exception as e:\n",
        "        print(f\"Error processing consigne: {consigne[:50]}... Error: {e}\")\n",
        "        return f\"ERROR: {e}\""
      ],
      "metadata": {
        "id": "vlImjVJiF39g"
      },
      "id": "vlImjVJiF39g",
      "execution_count": 12,
      "outputs": []
    },
    {
      "cell_type": "code",
      "source": [
        "# Type de génération : brute (sans style, juste la consigne)\n",
        "consignes_sans_prompt = pd.read_excel('/content/drive/My Drive/data1.xlsx')\n",
        "consignes_sans_prompt ['histoire_model_brut'] = consignes_sans_prompt ['consigne'].apply(generer_histoire_sans_prompt)\n",
        "consignes_sans_prompt .to_excel('/content/drive/My Drive/consignes_sans_prompt.xlsx', index=False )"
      ],
      "metadata": {
        "id": "wxESTK8QGCTW",
        "colab": {
          "base_uri": "https://localhost:8080/"
        },
        "outputId": "514c4ed6-66cf-4afe-eadb-ece6a37b7d15"
      },
      "id": "wxESTK8QGCTW",
      "execution_count": 13,
      "outputs": [
        {
          "output_type": "stream",
          "name": "stdout",
          "text": [
            "Error processing consigne: Génère une histoire pulp fiction dans le style noi... Error: Together Server: Error 500\n"
          ]
        }
      ]
    },
    {
      "cell_type": "code",
      "source": [
        "# Chargement de la métrique BERTScore\n",
        "bertscore = load(\"bertscore\")"
      ],
      "metadata": {
        "id": "8gDvAgIGx-_h"
      },
      "id": "8gDvAgIGx-_h",
      "execution_count": 29,
      "outputs": []
    },
    {
      "cell_type": "code",
      "source": [
        "# Chargement du fichier Excel dans un DataFrame Pandas\n",
        "evaluation_avec_prompt= pd.read_excel('/content/drive/My Drive/consignes_avec_prompt.xlsx')\n",
        "\n",
        "# Extraction des colonnes 'histoire_model' et 'histoire' du DataFrame `evaluation`\n",
        "predictions_avec_prompt = evaluation_avec_prompt[\"histoire_model\"].astype(str).tolist()\n",
        "references_avec_prompt = evaluation_avec_prompt[\"histoire\"].astype(str).tolist()\n",
        "\n",
        "# Calcul des scores BERTScore entre les textes générés (predictions) et les textes de référence (references)\n",
        "results_avec_prompt = bertscore.compute(predictions=predictions_avec_prompt, references=references_avec_prompt, lang=\"fr\")"
      ],
      "metadata": {
        "id": "dK9Jfgw-1yKU"
      },
      "id": "dK9Jfgw-1yKU",
      "execution_count": 30,
      "outputs": []
    },
    {
      "cell_type": "code",
      "source": [
        "results_avec_prompt[\"f1\"]"
      ],
      "metadata": {
        "id": "46CzpMxV4jTX",
        "colab": {
          "base_uri": "https://localhost:8080/"
        },
        "outputId": "876ba75a-5088-482e-b541-54613618842b"
      },
      "id": "46CzpMxV4jTX",
      "execution_count": 31,
      "outputs": [
        {
          "output_type": "execute_result",
          "data": {
            "text/plain": [
              "[0.6875433325767517,\n",
              " 0.545774519443512,\n",
              " 0.6596840620040894,\n",
              " 0.6814069747924805,\n",
              " 0.525589644908905,\n",
              " 0.692867636680603,\n",
              " 0.7153210043907166,\n",
              " 0.6583645343780518,\n",
              " 0.6849310994148254,\n",
              " 0.6679114699363708]"
            ]
          },
          "metadata": {},
          "execution_count": 31
        }
      ]
    },
    {
      "cell_type": "code",
      "source": [
        "results_avec_prompt[\"recall\"]"
      ],
      "metadata": {
        "id": "_1PczZpy5jRm",
        "colab": {
          "base_uri": "https://localhost:8080/"
        },
        "outputId": "d85b17c9-4da3-4e69-c743-13a1f9e31907"
      },
      "id": "_1PczZpy5jRm",
      "execution_count": 32,
      "outputs": [
        {
          "output_type": "execute_result",
          "data": {
            "text/plain": [
              "[0.7319057583808899,\n",
              " 0.525109052658081,\n",
              " 0.699839174747467,\n",
              " 0.719702959060669,\n",
              " 0.4944773018360138,\n",
              " 0.7147614359855652,\n",
              " 0.7276340126991272,\n",
              " 0.6647535562515259,\n",
              " 0.7132907509803772,\n",
              " 0.6890534162521362]"
            ]
          },
          "metadata": {},
          "execution_count": 32
        }
      ]
    },
    {
      "cell_type": "code",
      "source": [
        "results_avec_prompt[\"precision\"]"
      ],
      "metadata": {
        "id": "3Is1wzpe5-Sd",
        "colab": {
          "base_uri": "https://localhost:8080/"
        },
        "outputId": "1465d9e4-ca92-463a-e0ec-c8151e02c2ec"
      },
      "id": "3Is1wzpe5-Sd",
      "execution_count": 33,
      "outputs": [
        {
          "output_type": "execute_result",
          "data": {
            "text/plain": [
              "[0.6482514142990112,\n",
              " 0.5681331157684326,\n",
              " 0.6238868832588196,\n",
              " 0.6469807028770447,\n",
              " 0.5608800053596497,\n",
              " 0.6722752451896667,\n",
              " 0.7034177780151367,\n",
              " 0.6520971059799194,\n",
              " 0.6587402820587158,\n",
              " 0.6480283141136169]"
            ]
          },
          "metadata": {},
          "execution_count": 33
        }
      ]
    },
    {
      "cell_type": "code",
      "source": [
        "evaluation_sans_prompt= pd.read_excel('/content/drive/My Drive/consignes_sans_prompt.xlsx')\n",
        "predictions_sans_prompt = evaluation_sans_prompt[\"histoire_model_brut\"].astype(str).tolist()\n",
        "references_sans_prompt = evaluation_sans_prompt[\"histoire\"].astype(str).tolist()\n",
        "results_sans_prompt = bertscore.compute(predictions=predictions_sans_prompt, references=references_sans_prompt, lang=\"fr\")"
      ],
      "metadata": {
        "id": "3IsobJ_JxAs0"
      },
      "id": "3IsobJ_JxAs0",
      "execution_count": 34,
      "outputs": []
    },
    {
      "cell_type": "code",
      "source": [
        "results_sans_prompt[\"f1\"]"
      ],
      "metadata": {
        "id": "fvAUZF1uycCp",
        "colab": {
          "base_uri": "https://localhost:8080/"
        },
        "outputId": "1590f476-ae68-4d38-ab22-8299e11ef079"
      },
      "id": "fvAUZF1uycCp",
      "execution_count": 35,
      "outputs": [
        {
          "output_type": "execute_result",
          "data": {
            "text/plain": [
              "[0.6389510035514832,\n",
              " 0.6816247701644897,\n",
              " 0.6565691828727722,\n",
              " 0.6631003022193909,\n",
              " 0.650140106678009,\n",
              " 0.5912732481956482,\n",
              " 0.5106707811355591,\n",
              " 0.4993896186351776,\n",
              " 0.5801318287849426]"
            ]
          },
          "metadata": {},
          "execution_count": 35
        }
      ]
    },
    {
      "cell_type": "code",
      "source": [
        "results_sans_prompt[\"recall\"]"
      ],
      "metadata": {
        "colab": {
          "base_uri": "https://localhost:8080/"
        },
        "id": "8b8mQXCS03wZ",
        "outputId": "c0911618-f264-4115-f4b9-1143ee782f35"
      },
      "id": "8b8mQXCS03wZ",
      "execution_count": 36,
      "outputs": [
        {
          "output_type": "execute_result",
          "data": {
            "text/plain": [
              "[0.641130268573761,\n",
              " 0.6763982772827148,\n",
              " 0.6810842752456665,\n",
              " 0.6728613376617432,\n",
              " 0.6565331220626831,\n",
              " 0.600677490234375,\n",
              " 0.4684237837791443,\n",
              " 0.5294826030731201,\n",
              " 0.6147037744522095]"
            ]
          },
          "metadata": {},
          "execution_count": 36
        }
      ]
    },
    {
      "cell_type": "code",
      "source": [
        "results_sans_prompt[\"precision\"]"
      ],
      "metadata": {
        "id": "31pvzzwSzO5i",
        "colab": {
          "base_uri": "https://localhost:8080/"
        },
        "outputId": "35dc495f-3fff-435c-cacc-3449215dda43"
      },
      "id": "31pvzzwSzO5i",
      "execution_count": 37,
      "outputs": [
        {
          "output_type": "execute_result",
          "data": {
            "text/plain": [
              "[0.6367865204811096,\n",
              " 0.6869326233863831,\n",
              " 0.6337575912475586,\n",
              " 0.6536185145378113,\n",
              " 0.6438703536987305,\n",
              " 0.5821589231491089,\n",
              " 0.5612936615943909,\n",
              " 0.4725334048271179,\n",
              " 0.5492415428161621]"
            ]
          },
          "metadata": {},
          "execution_count": 37
        }
      ]
    },
    {
      "cell_type": "code",
      "source": [
        "# Calcul de la moyenne des scores F1 BERTScore pour deux ensembles de résultats\n",
        "f1_sans_prompt = mean(results_sans_prompt['f1'])\n",
        "f1_avec_prompt = mean(results_avec_prompt['f1'])"
      ],
      "metadata": {
        "id": "CuuRFEbu0xBN"
      },
      "id": "CuuRFEbu0xBN",
      "execution_count": 46,
      "outputs": []
    },
    {
      "cell_type": "code",
      "source": [
        "f1_avec_prompt"
      ],
      "metadata": {
        "colab": {
          "base_uri": "https://localhost:8080/"
        },
        "id": "s1nSbhx1928n",
        "outputId": "76f97c09-905f-46f0-ac5e-eca9cc113007"
      },
      "id": "s1nSbhx1928n",
      "execution_count": 43,
      "outputs": [
        {
          "output_type": "execute_result",
          "data": {
            "text/plain": [
              "0.6519394278526306"
            ]
          },
          "metadata": {},
          "execution_count": 43
        }
      ]
    },
    {
      "cell_type": "code",
      "source": [
        "f1_sans_prompt"
      ],
      "metadata": {
        "colab": {
          "base_uri": "https://localhost:8080/"
        },
        "id": "3UScirnG98cO",
        "outputId": "3407547a-40de-4353-b285-d5e266342d24"
      },
      "id": "3UScirnG98cO",
      "execution_count": 44,
      "outputs": [
        {
          "output_type": "execute_result",
          "data": {
            "text/plain": [
              "0.6079834269152747"
            ]
          },
          "metadata": {},
          "execution_count": 44
        }
      ]
    },
    {
      "cell_type": "code",
      "source": [
        "# Calcul de la différence relative absolue entre les deux moyennes de scores F1\n",
        "abs(f1_avec_prompt - f1_sans_prompt) / f1_sans_prompt"
      ],
      "metadata": {
        "colab": {
          "base_uri": "https://localhost:8080/"
        },
        "id": "G9vQ6ZeE9wno",
        "outputId": "662ea0a9-f02f-48a4-8676-e03f7aa9bed1"
      },
      "id": "G9vQ6ZeE9wno",
      "execution_count": 45,
      "outputs": [
        {
          "output_type": "execute_result",
          "data": {
            "text/plain": [
              "0.07229802489909207"
            ]
          },
          "metadata": {},
          "execution_count": 45
        }
      ]
    },
    {
      "cell_type": "code",
      "source": [
        "precision_sans_prompt = mean(results_sans_prompt['precision'])\n",
        "precision_avec_prompt = mean(results_avec_prompt['precision'])\n",
        "\n",
        "abs(precision_avec_prompt - precision_sans_prompt) / precision_sans_prompt"
      ],
      "metadata": {
        "id": "XEiHFoDU9q8H",
        "colab": {
          "base_uri": "https://localhost:8080/"
        },
        "outputId": "fb2a79ee-4598-4c3f-942c-b9bf2a12ec26"
      },
      "id": "XEiHFoDU9q8H",
      "execution_count": 47,
      "outputs": [
        {
          "output_type": "execute_result",
          "data": {
            "text/plain": [
              "0.05981864822340337"
            ]
          },
          "metadata": {},
          "execution_count": 47
        }
      ]
    },
    {
      "cell_type": "code",
      "source": [
        "recall_sans_prompt = mean(results_sans_prompt['recall'])\n",
        "recall_avec_prompt = mean(results_avec_prompt['recall'])\n",
        "\n",
        "abs(recall_avec_prompt - recall_sans_prompt) / recall_sans_prompt"
      ],
      "metadata": {
        "id": "r6e6nll-90LQ",
        "colab": {
          "base_uri": "https://localhost:8080/"
        },
        "outputId": "acc55043-f358-4b0e-e818-9b2c11875742"
      },
      "id": "r6e6nll-90LQ",
      "execution_count": 48,
      "outputs": [
        {
          "output_type": "execute_result",
          "data": {
            "text/plain": [
              "0.08503062016230152"
            ]
          },
          "metadata": {},
          "execution_count": 48
        }
      ]
    },
    {
      "cell_type": "code",
      "source": [
        "# Définition d’un type dictionnaire nommé `State` avec TypedDict\n",
        "class State(TypedDict):\n",
        "    messages: Annotated[list, add_messages]\n",
        "\n",
        "# Construction d’un graphe d’état\n",
        "graph_builder = StateGraph(State)\n"
      ],
      "metadata": {
        "id": "YLpn602xQL_i"
      },
      "id": "YLpn602xQL_i",
      "execution_count": 49,
      "outputs": []
    },
    {
      "cell_type": "code",
      "source": [
        "# Prend l’état actuel contenant l’historique des messages et appelle le modèle LLM avec\n",
        "def chatbot(state: State):\n",
        "    return {\"messages\": [llm.invoke(state[\"messages\"])]}"
      ],
      "metadata": {
        "id": "c8KHxWZTQbNS"
      },
      "id": "c8KHxWZTQbNS",
      "execution_count": 50,
      "outputs": []
    },
    {
      "cell_type": "code",
      "source": [
        "# Connexion du graphe\n",
        "graph_builder.add_node(\"chatbot\", chatbot)\n",
        "graph_builder.add_edge(START, \"chatbot\")\n",
        "graph = graph_builder.compile()"
      ],
      "metadata": {
        "id": "FaUoVtN7Qg5a"
      },
      "id": "FaUoVtN7Qg5a",
      "execution_count": 51,
      "outputs": []
    },
    {
      "cell_type": "code",
      "source": [
        "# Fonction qui gère le streaming des mises à jour du graphe conversationnel\n",
        "def stream_graph_updates(user_input: str):\n",
        "    for event in graph.stream({\"messages\": [{\"role\": \"user\", \"content\": user_input}]}):\n",
        "        for value in event.values():\n",
        "            print(\"Assistant:\", value[\"messages\"][-1].content)\n",
        "\n",
        "\n",
        "while True:\n",
        "    user_input = input(\"Utilisateur: \")\n",
        "\n",
        "    if user_input.lower() in [\"quit\", \"exit\", \"q\"]:\n",
        "        print(\"A bientôt!\")\n",
        "        break\n",
        "\n",
        "    try:\n",
        "        histoire = generation_histoire_avec_prompt(user_input)\n",
        "        print(\"Assistant: Voici l'histoire :\")\n",
        "        print(histoire)\n",
        "\n",
        "        feedback = input(\"Êtes-vous satisfait de l'histoire? (oui/non) : \")\n",
        "        if feedback.lower() == \"oui\":\n",
        "            print(\"A bientôt!\")\n",
        "            break\n",
        "        elif feedback.lower() == \"non\":\n",
        "            histoire = generation_histoire_avec_prompt(user_input)\n",
        "            print(\"Assistant: Voici une nouvelle histoire :\")\n",
        "            print(histoire)\n",
        "        else:\n",
        "            print(\"Réponse non reconnue, veuillez répondre par 'oui' ou 'non'.\")\n",
        "\n",
        "    except Exception as e:\n",
        "        print(f\"Une erreur est survenue : {e}. Veuillez réessayer.\")"
      ],
      "metadata": {
        "id": "gpGW_fzYQn1W",
        "colab": {
          "base_uri": "https://localhost:8080/"
        },
        "outputId": "b6075363-4992-471a-db9c-600d2b04d44c"
      },
      "id": "gpGW_fzYQn1W",
      "execution_count": 55,
      "outputs": [
        {
          "output_type": "stream",
          "name": "stdout",
          "text": [
            "Utilisateur: Créé une histoire avec des princesses\n",
            "Assistant: Voici l'histoire :\n",
            "Dans les rues de Paris, où les lanternes des Halles projetaient leurs lueurs dans les ruelles tortueuses du quartier latin, Léo Dupont, un détective français, se préparait à sa plus dangereuse mission. Engagé par une mystérieuse princesse égyptienne pour retrouver son frère disparu, Dupont se retrouva rapidement plongé dans l'univers des sorcières. Sous couverture comme étudiant dans une école de sorcellerie, il découvrit que la sorcière blanche, la plus puissante des sorcières, orchestrait un vaste trafic de secrets magiques. Mais plus il s'enfonçait dans ce monde de traditions ancestrales et de sorcellerie moderne, plus Dupont réalisait que sa cliente n'était pas celle qu'elle prétendait être. Entre les rituels secrets des sorcières et les vengeances familiales qui remontaient à trois générations, Dupont devait naviguer dans un labyrinthe de loyautés où chaque faux pas pouvait être le dernier. Dans un final sanglant dans l'enceinte de la Tour Eiffel, Dupont fut confronté à un choix impossible : trahir son héritage ou sacrifier sa mission.\n",
            "Êtes-vous satisfait de l'histoire? (oui/non) : oui\n",
            "A bientôt!\n"
          ]
        }
      ]
    },
    {
      "cell_type": "code",
      "source": [],
      "metadata": {
        "id": "mZGBvvl8QtGT"
      },
      "id": "mZGBvvl8QtGT",
      "execution_count": null,
      "outputs": []
    }
  ],
  "metadata": {
    "colab": {
      "provenance": []
    },
    "kernelspec": {
      "display_name": "Python 3",
      "name": "python3"
    },
    "language_info": {
      "codemirror_mode": {
        "name": "ipython",
        "version": 3
      },
      "file_extension": ".py",
      "mimetype": "text/x-python",
      "name": "python",
      "nbconvert_exporter": "python",
      "pygments_lexer": "ipython3",
      "version": "3.13.3"
    }
  },
  "nbformat": 4,
  "nbformat_minor": 5
}