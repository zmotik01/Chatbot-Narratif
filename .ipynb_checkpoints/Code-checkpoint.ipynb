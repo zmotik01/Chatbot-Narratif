{
 "cells": [
  {
   "cell_type": "code",
   "execution_count": 12,
   "id": "fV-LEZFGFc7o",
   "metadata": {
    "colab": {
     "base_uri": "https://localhost:8080/"
    },
    "id": "fV-LEZFGFc7o",
    "outputId": "62286211-5484-46b9-ef0b-454789bb3976"
   },
   "outputs": [
    {
     "name": "stdout",
     "output_type": "stream",
     "text": [
      "Requirement already satisfied: langchain in /usr/local/lib/python3.10/site-packages (0.3.25)\n",
      "Requirement already satisfied: langchain-community in /usr/local/lib/python3.10/site-packages (0.3.24)\n",
      "Requirement already satisfied: langchain-core<1.0.0,>=0.3.58 in /usr/local/lib/python3.10/site-packages (from langchain) (0.3.63)\n",
      "Requirement already satisfied: langchain-text-splitters<1.0.0,>=0.3.8 in /usr/local/lib/python3.10/site-packages (from langchain) (0.3.8)\n",
      "Requirement already satisfied: langsmith<0.4,>=0.1.17 in /usr/local/lib/python3.10/site-packages (from langchain) (0.3.43)\n",
      "Requirement already satisfied: pydantic<3.0.0,>=2.7.4 in /usr/local/lib/python3.10/site-packages (from langchain) (2.11.5)\n",
      "Requirement already satisfied: SQLAlchemy<3,>=1.4 in /usr/local/lib/python3.10/site-packages (from langchain) (2.0.41)\n",
      "Requirement already satisfied: requests<3,>=2 in /usr/local/lib/python3.10/site-packages (from langchain) (2.32.3)\n",
      "Requirement already satisfied: PyYAML>=5.3 in /usr/local/lib/python3.10/site-packages (from langchain) (6.0.2)\n",
      "Requirement already satisfied: async-timeout<5.0.0,>=4.0.0 in /usr/local/lib/python3.10/site-packages (from langchain) (4.0.3)\n",
      "Requirement already satisfied: tenacity!=8.4.0,<10.0.0,>=8.1.0 in /usr/local/lib/python3.10/site-packages (from langchain-core<1.0.0,>=0.3.58->langchain) (9.1.2)\n",
      "Requirement already satisfied: jsonpatch<2.0,>=1.33 in /usr/local/lib/python3.10/site-packages (from langchain-core<1.0.0,>=0.3.58->langchain) (1.33)\n",
      "Requirement already satisfied: packaging<25,>=23.2 in /usr/local/lib/python3.10/site-packages (from langchain-core<1.0.0,>=0.3.58->langchain) (24.2)\n",
      "Requirement already satisfied: typing-extensions>=4.7 in /usr/local/lib/python3.10/site-packages (from langchain-core<1.0.0,>=0.3.58->langchain) (4.13.2)\n",
      "Requirement already satisfied: jsonpointer>=1.9 in /usr/local/lib/python3.10/site-packages (from jsonpatch<2.0,>=1.33->langchain-core<1.0.0,>=0.3.58->langchain) (3.0.0)\n",
      "Requirement already satisfied: httpx<1,>=0.23.0 in /usr/local/lib/python3.10/site-packages (from langsmith<0.4,>=0.1.17->langchain) (0.28.1)\n",
      "Requirement already satisfied: orjson<4.0.0,>=3.9.14 in /usr/local/lib/python3.10/site-packages (from langsmith<0.4,>=0.1.17->langchain) (3.10.18)\n",
      "Requirement already satisfied: requests-toolbelt<2.0.0,>=1.0.0 in /usr/local/lib/python3.10/site-packages (from langsmith<0.4,>=0.1.17->langchain) (1.0.0)\n",
      "Requirement already satisfied: zstandard<0.24.0,>=0.23.0 in /usr/local/lib/python3.10/site-packages (from langsmith<0.4,>=0.1.17->langchain) (0.23.0)\n",
      "Requirement already satisfied: anyio in /usr/local/lib/python3.10/site-packages (from httpx<1,>=0.23.0->langsmith<0.4,>=0.1.17->langchain) (4.9.0)\n",
      "Requirement already satisfied: certifi in /usr/local/lib/python3.10/site-packages (from httpx<1,>=0.23.0->langsmith<0.4,>=0.1.17->langchain) (2025.4.26)\n",
      "Requirement already satisfied: httpcore==1.* in /usr/local/lib/python3.10/site-packages (from httpx<1,>=0.23.0->langsmith<0.4,>=0.1.17->langchain) (1.0.9)\n",
      "Requirement already satisfied: idna in /usr/local/lib/python3.10/site-packages (from httpx<1,>=0.23.0->langsmith<0.4,>=0.1.17->langchain) (3.10)\n",
      "Requirement already satisfied: h11>=0.16 in /usr/local/lib/python3.10/site-packages (from httpcore==1.*->httpx<1,>=0.23.0->langsmith<0.4,>=0.1.17->langchain) (0.16.0)\n",
      "Requirement already satisfied: annotated-types>=0.6.0 in /usr/local/lib/python3.10/site-packages (from pydantic<3.0.0,>=2.7.4->langchain) (0.7.0)\n",
      "Requirement already satisfied: pydantic-core==2.33.2 in /usr/local/lib/python3.10/site-packages (from pydantic<3.0.0,>=2.7.4->langchain) (2.33.2)\n",
      "Requirement already satisfied: typing-inspection>=0.4.0 in /usr/local/lib/python3.10/site-packages (from pydantic<3.0.0,>=2.7.4->langchain) (0.4.1)\n",
      "Requirement already satisfied: charset-normalizer<4,>=2 in /usr/local/lib/python3.10/site-packages (from requests<3,>=2->langchain) (3.4.2)\n",
      "Requirement already satisfied: urllib3<3,>=1.21.1 in /usr/local/lib/python3.10/site-packages (from requests<3,>=2->langchain) (2.4.0)\n",
      "Requirement already satisfied: greenlet>=1 in /usr/local/lib/python3.10/site-packages (from SQLAlchemy<3,>=1.4->langchain) (3.2.2)\n",
      "Requirement already satisfied: aiohttp<4.0.0,>=3.8.3 in /usr/local/lib/python3.10/site-packages (from langchain-community) (3.12.6)\n",
      "Requirement already satisfied: dataclasses-json<0.7,>=0.5.7 in /usr/local/lib/python3.10/site-packages (from langchain-community) (0.6.7)\n",
      "Requirement already satisfied: pydantic-settings<3.0.0,>=2.4.0 in /usr/local/lib/python3.10/site-packages (from langchain-community) (2.9.1)\n",
      "Requirement already satisfied: httpx-sse<1.0.0,>=0.4.0 in /usr/local/lib/python3.10/site-packages (from langchain-community) (0.4.0)\n",
      "Requirement already satisfied: numpy>=1.26.2 in /usr/local/lib/python3.10/site-packages (from langchain-community) (2.2.6)\n",
      "Requirement already satisfied: aiohappyeyeballs>=2.5.0 in /usr/local/lib/python3.10/site-packages (from aiohttp<4.0.0,>=3.8.3->langchain-community) (2.6.1)\n",
      "Requirement already satisfied: aiosignal>=1.1.2 in /usr/local/lib/python3.10/site-packages (from aiohttp<4.0.0,>=3.8.3->langchain-community) (1.3.2)\n",
      "Requirement already satisfied: attrs>=17.3.0 in /usr/local/lib/python3.10/site-packages (from aiohttp<4.0.0,>=3.8.3->langchain-community) (25.3.0)\n",
      "Requirement already satisfied: frozenlist>=1.1.1 in /usr/local/lib/python3.10/site-packages (from aiohttp<4.0.0,>=3.8.3->langchain-community) (1.6.0)\n",
      "Requirement already satisfied: multidict<7.0,>=4.5 in /usr/local/lib/python3.10/site-packages (from aiohttp<4.0.0,>=3.8.3->langchain-community) (6.4.4)\n",
      "Requirement already satisfied: propcache>=0.2.0 in /usr/local/lib/python3.10/site-packages (from aiohttp<4.0.0,>=3.8.3->langchain-community) (0.3.1)\n",
      "Requirement already satisfied: yarl<2.0,>=1.17.0 in /usr/local/lib/python3.10/site-packages (from aiohttp<4.0.0,>=3.8.3->langchain-community) (1.20.0)\n",
      "Requirement already satisfied: marshmallow<4.0.0,>=3.18.0 in /usr/local/lib/python3.10/site-packages (from dataclasses-json<0.7,>=0.5.7->langchain-community) (3.26.1)\n",
      "Requirement already satisfied: typing-inspect<1,>=0.4.0 in /usr/local/lib/python3.10/site-packages (from dataclasses-json<0.7,>=0.5.7->langchain-community) (0.9.0)\n",
      "Requirement already satisfied: python-dotenv>=0.21.0 in /usr/local/lib/python3.10/site-packages (from pydantic-settings<3.0.0,>=2.4.0->langchain-community) (1.1.0)\n",
      "Requirement already satisfied: mypy-extensions>=0.3.0 in /usr/local/lib/python3.10/site-packages (from typing-inspect<1,>=0.4.0->dataclasses-json<0.7,>=0.5.7->langchain-community) (1.1.0)\n",
      "Requirement already satisfied: exceptiongroup>=1.0.2 in /usr/local/lib/python3.10/site-packages (from anyio->httpx<1,>=0.23.0->langsmith<0.4,>=0.1.17->langchain) (1.3.0)\n",
      "Requirement already satisfied: sniffio>=1.1 in /usr/local/lib/python3.10/site-packages (from anyio->httpx<1,>=0.23.0->langsmith<0.4,>=0.1.17->langchain) (1.3.1)\n",
      "\u001b[33mWARNING: Running pip as the 'root' user can result in broken permissions and conflicting behaviour with the system package manager, possibly rendering your system unusable. It is recommended to use a virtual environment instead: https://pip.pypa.io/warnings/venv. Use the --root-user-action option if you know what you are doing and want to suppress this warning.\u001b[0m\u001b[33m\n",
      "\u001b[0mRequirement already satisfied: langchain in /usr/local/lib/python3.10/site-packages (0.3.25)\n",
      "Requirement already satisfied: together in /usr/local/lib/python3.10/site-packages (1.5.8)\n",
      "Requirement already satisfied: openai in /usr/local/lib/python3.10/site-packages (1.82.1)\n",
      "Requirement already satisfied: langchain-core<1.0.0,>=0.3.58 in /usr/local/lib/python3.10/site-packages (from langchain) (0.3.63)\n",
      "Requirement already satisfied: langchain-text-splitters<1.0.0,>=0.3.8 in /usr/local/lib/python3.10/site-packages (from langchain) (0.3.8)\n",
      "Requirement already satisfied: langsmith<0.4,>=0.1.17 in /usr/local/lib/python3.10/site-packages (from langchain) (0.3.43)\n",
      "Requirement already satisfied: pydantic<3.0.0,>=2.7.4 in /usr/local/lib/python3.10/site-packages (from langchain) (2.11.5)\n",
      "Requirement already satisfied: SQLAlchemy<3,>=1.4 in /usr/local/lib/python3.10/site-packages (from langchain) (2.0.41)\n",
      "Requirement already satisfied: requests<3,>=2 in /usr/local/lib/python3.10/site-packages (from langchain) (2.32.3)\n",
      "Requirement already satisfied: PyYAML>=5.3 in /usr/local/lib/python3.10/site-packages (from langchain) (6.0.2)\n",
      "Requirement already satisfied: async-timeout<5.0.0,>=4.0.0 in /usr/local/lib/python3.10/site-packages (from langchain) (4.0.3)\n",
      "Requirement already satisfied: tenacity!=8.4.0,<10.0.0,>=8.1.0 in /usr/local/lib/python3.10/site-packages (from langchain-core<1.0.0,>=0.3.58->langchain) (9.1.2)\n",
      "Requirement already satisfied: jsonpatch<2.0,>=1.33 in /usr/local/lib/python3.10/site-packages (from langchain-core<1.0.0,>=0.3.58->langchain) (1.33)\n",
      "Requirement already satisfied: packaging<25,>=23.2 in /usr/local/lib/python3.10/site-packages (from langchain-core<1.0.0,>=0.3.58->langchain) (24.2)\n",
      "Requirement already satisfied: typing-extensions>=4.7 in /usr/local/lib/python3.10/site-packages (from langchain-core<1.0.0,>=0.3.58->langchain) (4.13.2)\n",
      "Requirement already satisfied: jsonpointer>=1.9 in /usr/local/lib/python3.10/site-packages (from jsonpatch<2.0,>=1.33->langchain-core<1.0.0,>=0.3.58->langchain) (3.0.0)\n",
      "Requirement already satisfied: httpx<1,>=0.23.0 in /usr/local/lib/python3.10/site-packages (from langsmith<0.4,>=0.1.17->langchain) (0.28.1)\n",
      "Requirement already satisfied: orjson<4.0.0,>=3.9.14 in /usr/local/lib/python3.10/site-packages (from langsmith<0.4,>=0.1.17->langchain) (3.10.18)\n",
      "Requirement already satisfied: requests-toolbelt<2.0.0,>=1.0.0 in /usr/local/lib/python3.10/site-packages (from langsmith<0.4,>=0.1.17->langchain) (1.0.0)\n",
      "Requirement already satisfied: zstandard<0.24.0,>=0.23.0 in /usr/local/lib/python3.10/site-packages (from langsmith<0.4,>=0.1.17->langchain) (0.23.0)\n",
      "Requirement already satisfied: anyio in /usr/local/lib/python3.10/site-packages (from httpx<1,>=0.23.0->langsmith<0.4,>=0.1.17->langchain) (4.9.0)\n",
      "Requirement already satisfied: certifi in /usr/local/lib/python3.10/site-packages (from httpx<1,>=0.23.0->langsmith<0.4,>=0.1.17->langchain) (2025.4.26)\n",
      "Requirement already satisfied: httpcore==1.* in /usr/local/lib/python3.10/site-packages (from httpx<1,>=0.23.0->langsmith<0.4,>=0.1.17->langchain) (1.0.9)\n",
      "Requirement already satisfied: idna in /usr/local/lib/python3.10/site-packages (from httpx<1,>=0.23.0->langsmith<0.4,>=0.1.17->langchain) (3.10)\n",
      "Requirement already satisfied: h11>=0.16 in /usr/local/lib/python3.10/site-packages (from httpcore==1.*->httpx<1,>=0.23.0->langsmith<0.4,>=0.1.17->langchain) (0.16.0)\n",
      "Requirement already satisfied: annotated-types>=0.6.0 in /usr/local/lib/python3.10/site-packages (from pydantic<3.0.0,>=2.7.4->langchain) (0.7.0)\n",
      "Requirement already satisfied: pydantic-core==2.33.2 in /usr/local/lib/python3.10/site-packages (from pydantic<3.0.0,>=2.7.4->langchain) (2.33.2)\n",
      "Requirement already satisfied: typing-inspection>=0.4.0 in /usr/local/lib/python3.10/site-packages (from pydantic<3.0.0,>=2.7.4->langchain) (0.4.1)\n",
      "Requirement already satisfied: charset-normalizer<4,>=2 in /usr/local/lib/python3.10/site-packages (from requests<3,>=2->langchain) (3.4.2)\n",
      "Requirement already satisfied: urllib3<3,>=1.21.1 in /usr/local/lib/python3.10/site-packages (from requests<3,>=2->langchain) (2.4.0)\n",
      "Requirement already satisfied: greenlet>=1 in /usr/local/lib/python3.10/site-packages (from SQLAlchemy<3,>=1.4->langchain) (3.2.2)\n",
      "Requirement already satisfied: aiohttp<4.0.0,>=3.9.3 in /usr/local/lib/python3.10/site-packages (from together) (3.12.6)\n",
      "Requirement already satisfied: click<9.0.0,>=8.1.7 in /usr/local/lib/python3.10/site-packages (from together) (8.1.8)\n",
      "Requirement already satisfied: eval-type-backport<0.3.0,>=0.1.3 in /usr/local/lib/python3.10/site-packages (from together) (0.2.2)\n",
      "Requirement already satisfied: filelock<4.0.0,>=3.13.1 in /usr/local/lib/python3.10/site-packages (from together) (3.18.0)\n",
      "Requirement already satisfied: numpy>=1.23.5 in /usr/local/lib/python3.10/site-packages (from together) (2.2.6)\n",
      "Requirement already satisfied: pillow<12.0.0,>=11.1.0 in /usr/local/lib/python3.10/site-packages (from together) (11.2.1)\n",
      "Requirement already satisfied: pyarrow>=10.0.1 in /usr/local/lib/python3.10/site-packages (from together) (20.0.0)\n",
      "Requirement already satisfied: rich<15.0.0,>=13.8.1 in /usr/local/lib/python3.10/site-packages (from together) (14.0.0)\n",
      "Requirement already satisfied: tabulate<0.10.0,>=0.9.0 in /usr/local/lib/python3.10/site-packages (from together) (0.9.0)\n",
      "Requirement already satisfied: tqdm<5.0.0,>=4.66.2 in /usr/local/lib/python3.10/site-packages (from together) (4.67.1)\n",
      "Requirement already satisfied: typer<0.16,>=0.9 in /usr/local/lib/python3.10/site-packages (from together) (0.15.4)\n",
      "Requirement already satisfied: aiohappyeyeballs>=2.5.0 in /usr/local/lib/python3.10/site-packages (from aiohttp<4.0.0,>=3.9.3->together) (2.6.1)\n",
      "Requirement already satisfied: aiosignal>=1.1.2 in /usr/local/lib/python3.10/site-packages (from aiohttp<4.0.0,>=3.9.3->together) (1.3.2)\n",
      "Requirement already satisfied: attrs>=17.3.0 in /usr/local/lib/python3.10/site-packages (from aiohttp<4.0.0,>=3.9.3->together) (25.3.0)\n",
      "Requirement already satisfied: frozenlist>=1.1.1 in /usr/local/lib/python3.10/site-packages (from aiohttp<4.0.0,>=3.9.3->together) (1.6.0)\n",
      "Requirement already satisfied: multidict<7.0,>=4.5 in /usr/local/lib/python3.10/site-packages (from aiohttp<4.0.0,>=3.9.3->together) (6.4.4)\n",
      "Requirement already satisfied: propcache>=0.2.0 in /usr/local/lib/python3.10/site-packages (from aiohttp<4.0.0,>=3.9.3->together) (0.3.1)\n",
      "Requirement already satisfied: yarl<2.0,>=1.17.0 in /usr/local/lib/python3.10/site-packages (from aiohttp<4.0.0,>=3.9.3->together) (1.20.0)\n",
      "Requirement already satisfied: markdown-it-py>=2.2.0 in /usr/local/lib/python3.10/site-packages (from rich<15.0.0,>=13.8.1->together) (3.0.0)\n",
      "Requirement already satisfied: pygments<3.0.0,>=2.13.0 in /usr/local/lib/python3.10/site-packages (from rich<15.0.0,>=13.8.1->together) (2.19.1)\n",
      "Requirement already satisfied: shellingham>=1.3.0 in /usr/local/lib/python3.10/site-packages (from typer<0.16,>=0.9->together) (1.5.4)\n",
      "Requirement already satisfied: distro<2,>=1.7.0 in /usr/local/lib/python3.10/site-packages (from openai) (1.9.0)\n",
      "Requirement already satisfied: jiter<1,>=0.4.0 in /usr/local/lib/python3.10/site-packages (from openai) (0.10.0)\n",
      "Requirement already satisfied: sniffio in /usr/local/lib/python3.10/site-packages (from openai) (1.3.1)\n",
      "Requirement already satisfied: exceptiongroup>=1.0.2 in /usr/local/lib/python3.10/site-packages (from anyio->httpx<1,>=0.23.0->langsmith<0.4,>=0.1.17->langchain) (1.3.0)\n",
      "Requirement already satisfied: mdurl~=0.1 in /usr/local/lib/python3.10/site-packages (from markdown-it-py>=2.2.0->rich<15.0.0,>=13.8.1->together) (0.1.2)\n",
      "\u001b[33mWARNING: Running pip as the 'root' user can result in broken permissions and conflicting behaviour with the system package manager, possibly rendering your system unusable. It is recommended to use a virtual environment instead: https://pip.pypa.io/warnings/venv. Use the --root-user-action option if you know what you are doing and want to suppress this warning.\u001b[0m\u001b[33m\n",
      "\u001b[0m"
     ]
    }
   ],
   "source": [
    "!pip install -U langchain langchain-community\n",
    "!pip install langchain together openai\n",
    "\n",
    "test"
   ]
  },
  {
   "cell_type": "code",
   "execution_count": 2,
   "id": "909c68aa-cf95-47bd-9948-b7f2e5015a16",
   "metadata": {
    "id": "909c68aa-cf95-47bd-9948-b7f2e5015a16"
   },
   "outputs": [],
   "source": [
    "from langchain.llms import Together\n",
    "from langchain.prompts import PromptTemplate\n",
    "from langchain.chains import LLMChain\n",
    "\n"
   ]
  },
  {
   "cell_type": "code",
   "execution_count": 3,
   "id": "c887ec81-6c19-433d-ad17-54521d7187e1",
   "metadata": {
    "colab": {
     "base_uri": "https://localhost:8080/"
    },
    "id": "c887ec81-6c19-433d-ad17-54521d7187e1",
    "outputId": "3dcb211f-072f-49e6-be29-ba95dfe5e360"
   },
   "outputs": [
    {
     "name": "stderr",
     "output_type": "stream",
     "text": [
      "/tmp/ipykernel_17/2769637310.py:2: LangChainDeprecationWarning: The class `Together` was deprecated in LangChain 0.0.12 and will be removed in 1.0. An updated version of the class exists in the :class:`~langchain-together package and should be used instead. To use it run `pip install -U :class:`~langchain-together` and import as `from :class:`~langchain_together import Together``.\n",
      "  llm = Together(\n"
     ]
    }
   ],
   "source": [
    "#Création d'un objet llm basé sur LangChain qui se connecte au modèle Mistral-7B-Instruct via l’API de Together.ai\n",
    "llm = Together(\n",
    "    model=\"mistralai/Mistral-7B-Instruct-v0.2\",\n",
    "    temperature=0.7,\n",
    "    max_tokens=8000,\n",
    "    together_api_key=\"1aa19d9568dc960ec217156fc5d5d657dae558d5707a3d8f1e99d67d60c128c4\"\n",
    ")"
   ]
  },
  {
   "cell_type": "code",
   "execution_count": 4,
   "id": "48e18346-f77d-483e-bf17-cbd04cd65a11",
   "metadata": {
    "id": "48e18346-f77d-483e-bf17-cbd04cd65a11"
   },
   "outputs": [],
   "source": [
    "#Liste d’exemples pour le prompting (few-shot prompting)\n",
    "examples=[\n",
    "  {\n",
    "    \"consigne\": \"Écris une histoire pulp fiction se déroulant dans une ville corrompue où un détective privé affronte la mafia locale.\",\n",
    "    \"histoire\": \"Dans les ruelles crasseuses de Black Hollow, le détective Mike Hammer était le dernier à refuser les pots-de-vin. Quand la fille du maire fut retrouvée morte dans un entrepôt, toutes les preuves pointaient vers lui. Mais Hammer savait mieux : la mafia italienne voulait lui coller ce meurtre pour le faire taire. Armé d’un Colt .45 et d’un carnet plein de noms, il remonta la chaîne de sang jusqu’au parrain lui-même. Trois jours plus tard, Black Hollow avait un nouveau trou dans le cimetière… et un peu moins de corruption dans l’air.\"\n",
    "  },\n",
    "  {\n",
    "    \"consigne\": \"Raconte une histoire pulp fiction dans un décor futuriste avec des cyborgs et un trafic d'organes.\",\n",
    "    \"histoire\": \"En 2098, les néons de Neo-Mumbai n’éclairaient plus que les morts. L’inspectrice Zara Voss, moitié humaine, moitié titane, enquêtait sur un réseau d’extraction illégale d’organes cybernétiques. Les victimes ? Des enfants de la zone rouge. Les coupables ? Un cartel de chirurgiens fous appelés 'Les Couturiers'. Après avoir infiltré leur clinique volante, Voss déclencha l’enfer : les murs tremblaient sous les balles et les scalps fondaient sous les lames plasma. À la fin, elle tenait dans ses mains la puce-mère du leader. Et un message : 'On recommencera ailleurs'.\"\n",
    "  },\n",
    "  {\n",
    "    \"consigne\": \"Génère une histoire pulp fiction dans le style western, avec un chasseur de primes en mission dans un désert hostile.\",\n",
    "    \"histoire\": \"Le soleil du désert saignait l’horizon lorsque Clay Maddox entra à Dustveil. Une prime de dix mille dollars pendait au cou d’un ancien marshal devenu bandit : Rex 'l’Épervier'. Maddox traquait sa proie depuis le Mexique, laissant derrière lui un cimetière de complices. Ce soir-là, le saloon se vida quand les deux hommes se regardèrent. Trois secondes. Deux balles. Une seule toucha. Rex s’effondra, et Clay quitta la ville au petit matin, son chapeau baissé, traînant derrière lui un corps et une légende.\"\n",
    "  },\n",
    "  {\n",
    "    \"consigne\": \"Crée une histoire pulp fiction dans un univers lovecraftien avec un journaliste découvrant une vérité interdite.\",\n",
    "    \"histoire\": \"Juin 1932. Le journaliste Edward Mallory enquêtait sur des disparitions à Innsmouth. Il pensait tomber sur un trafic d’esclaves. Il découvrit des cultes anciens, des voix venues de la mer, et des livres qui rendaient fous. Une nuit, il entra dans l’église abandonnée et vit l’indicible : un œil cyclopéen l’observait depuis l’obscurité liquide du puits. Il n’écrivit jamais son article. Mais ses notes, retrouvées dans une pièce scellée, racontaient comment la ville avait été engloutie deux jours plus tard, avec ses secrets.\"\n",
    "  },\n",
    "  {\n",
    "    \"consigne\": \"Écris une histoire pulp fiction dans un monde post-apocalyptique, avec des motards mutants.\",\n",
    "    \"histoire\": \"Après la grande fusion nucléaire, la Route-9 était un territoire de guerre. Le gang des Scorchers, des mutants brûlés vifs, y régnait. Mais ce soir, quelqu’un d’autre roulait. On l’appelait Valka, l’Écorchée, moitié femme, moitié vengeance. Elle traquait le chef des Scorchers pour ce qu’ils avaient fait à sa sœur. Sa moto rugissait comme un ouragan, et son fusil thermique parlait en rafales. Quand la poussière retomba, il ne restait que de la tôle fondue et des hurlements lointains. Valka, elle, reprit la route, plus sauvage que jamais.\"\n",
    "  }\n",
    "]\n",
    "\n"
   ]
  },
  {
   "cell_type": "code",
   "execution_count": 5,
   "id": "263ce700-0eae-4edb-af73-58d1d0de5485",
   "metadata": {
    "id": "263ce700-0eae-4edb-af73-58d1d0de5485"
   },
   "outputs": [],
   "source": [
    "#Chaîne de texte avec des variables dynamiques ({consigne}, {examples}), qui sera remplie automatiquement (prompt engineering)\n",
    "template=  \"\"\" Tu es un scénariste. Écris-moi une histoire en francais à partir de la consigne suivante : {consigne}\n",
    "En te basant sur les exemples suivants : {examples}, génère une histoire dans le même style.\n",
    "\"\"\"\n"
   ]
  },
  {
   "cell_type": "code",
   "execution_count": 6,
   "id": "e55125c6-4cda-4b76-a0d0-6538fb969c3f",
   "metadata": {
    "id": "e55125c6-4cda-4b76-a0d0-6538fb969c3f"
   },
   "outputs": [],
   "source": [
    "#Prompt dynamique avec LangChain avec variable dynamique : consigne et une valeur fixe : examples avec une valeur fixe\n",
    "prompt=PromptTemplate(template=template,\n",
    "                             input_variable=[\"consigne\"]).partial(examples=examples)"
   ]
  },
  {
   "cell_type": "code",
   "execution_count": 7,
   "id": "fb530571-cf1c-41cd-a843-79ab7ce8e77f",
   "metadata": {
    "id": "fb530571-cf1c-41cd-a843-79ab7ce8e77f"
   },
   "outputs": [
    {
     "name": "stderr",
     "output_type": "stream",
     "text": [
      "/tmp/ipykernel_17/3264210689.py:2: LangChainDeprecationWarning: The class `LLMChain` was deprecated in LangChain 0.1.17 and will be removed in 1.0. Use :meth:`~RunnableSequence, e.g., `prompt | llm`` instead.\n",
      "  chain=LLMChain(llm=llm, prompt=prompt)\n"
     ]
    }
   ],
   "source": [
    "#Chaîne de génération de texte avec le modele de langage et le template de texte\n",
    "chain=LLMChain(llm=llm, prompt=prompt)"
   ]
  },
  {
   "cell_type": "code",
   "execution_count": 8,
   "id": "1098e544-0fdf-46e1-a6d2-ee23a17bc932",
   "metadata": {
    "colab": {
     "base_uri": "https://localhost:8080/",
     "height": 139
    },
    "id": "1098e544-0fdf-46e1-a6d2-ee23a17bc932",
    "outputId": "4ac49f36-8b43-487b-da3e-d87c52888baf"
   },
   "outputs": [
    {
     "data": {
      "text/plain": [
       "'\\nUne histoire courte pour enfants sur un lion et une grenouille :\\n\\nDans la savane de Serengeti, un lion nommé Leo se réveillait chaque matin sous le soleil rouge. Mais ce matin-là, il ne trouvait pas sa proie. Il s’allongeait sur le gazon sec, son ventre grondant. C’était alors que Mimi, la grenouille, arriva au bord de la rivière, lourdement chargée de pattes de moules. Elle avait vu Leo dans son rêve la nuit dernière et savait qu’il était sans nourriture. Elle lâcha ses pattes de moules sur le sol et, avec un rire guttural, dit : \"Allez-y, manger si t’en as soif !\" Leo regarda Mimi et en fut étonné. Il avait tué des grenouilles et du bétail, mais jamais une grenouille ne lui avait rien donné. Il dévora ses moules et, après son repas, il dit à Mimi : \"Merci, Mimi. Tu es vraiment une amie.\" Et depuis ce jour, Leo et Mimi partageaient leurs repas. Ils étaient maintenant des amis pour toujours.'"
      ]
     },
     "execution_count": 8,
     "metadata": {},
     "output_type": "execute_result"
    }
   ],
   "source": [
    "#VERSION MANUELLE\n",
    "#Remplit un modèle de prompt avec une consigne spécifique\n",
    "formatted_prompt = prompt.format_prompt(consigne=\"Crée une histoire courte pour enfants sur un lion et une grenouille.\")\n",
    "llm.invoke(formatted_prompt)"
   ]
  },
  {
   "cell_type": "markdown",
   "id": "4wLSBIJhHC0_",
   "metadata": {
    "id": "4wLSBIJhHC0_"
   },
   "source": []
  },
  {
   "cell_type": "code",
   "execution_count": 9,
   "id": "40b82413-9f56-4f73-81ec-c476300ad61f",
   "metadata": {
    "colab": {
     "base_uri": "https://localhost:8080/"
    },
    "id": "40b82413-9f56-4f73-81ec-c476300ad61f",
    "outputId": "b293ffd7-28b5-462f-fd28-67348a937e3b"
   },
   "outputs": [
    {
     "data": {
      "text/plain": [
       "{'consigne': 'Crée une histoire courte pour enfants sur un lion et une grenouille.',\n",
       " 'text': '\\nDans les savanes arides du continent de Saharah, le chasseur de primes Amon le Fauve était le dernier à refuser les pots-de-vin. Quand le roi du village de Khamsin fut tué par un tireur d’élite, toutes les preuves pointaient vers le sorcier Sobek. Mais Amon savait mieux : il savait que c’était le maître de la fauche. Armé d’un arc et de flèches empoisonnées, il remonta la chaîne de sang jusqu’au parrain léopard lui-même. Trois jours plus tard, la vallée avait un nouveau trou dans le cimetière… et un peu moins de terreur dans l’air.'}"
      ]
     },
     "execution_count": 9,
     "metadata": {},
     "output_type": "execute_result"
    }
   ],
   "source": [
    "#VERSION AUTO\n",
    "#Execution de la chaîne de génération de texte, en donnant une consigne directe au modèle \n",
    "chain.invoke(\"Crée une histoire courte pour enfants sur un lion et une grenouille.\")\n"
   ]
  },
  {
   "cell_type": "code",
   "execution_count": 10,
   "id": "6e7303f0",
   "metadata": {},
   "outputs": [
    {
     "name": "stdout",
     "output_type": "stream",
     "text": [
      "Requirement already satisfied: evaluate in /usr/local/lib/python3.10/site-packages (0.4.3)\n",
      "Requirement already satisfied: datasets in /usr/local/lib/python3.10/site-packages (3.6.0)\n",
      "Requirement already satisfied: numpy>=1.17 in /usr/local/lib/python3.10/site-packages (from evaluate) (2.2.6)\n",
      "Requirement already satisfied: dill in /usr/local/lib/python3.10/site-packages (from evaluate) (0.3.8)\n",
      "Requirement already satisfied: pandas in /usr/local/lib/python3.10/site-packages (from evaluate) (2.2.3)\n",
      "Requirement already satisfied: requests>=2.19.0 in /usr/local/lib/python3.10/site-packages (from evaluate) (2.32.3)\n",
      "Requirement already satisfied: tqdm>=4.62.1 in /usr/local/lib/python3.10/site-packages (from evaluate) (4.67.1)\n",
      "Requirement already satisfied: xxhash in /usr/local/lib/python3.10/site-packages (from evaluate) (3.5.0)\n",
      "Requirement already satisfied: multiprocess in /usr/local/lib/python3.10/site-packages (from evaluate) (0.70.16)\n",
      "Requirement already satisfied: fsspec>=2021.05.0 in /usr/local/lib/python3.10/site-packages (from fsspec[http]>=2021.05.0->evaluate) (2025.3.0)\n",
      "Requirement already satisfied: huggingface-hub>=0.7.0 in /usr/local/lib/python3.10/site-packages (from evaluate) (0.32.3)\n",
      "Requirement already satisfied: packaging in /usr/local/lib/python3.10/site-packages (from evaluate) (24.2)\n",
      "Requirement already satisfied: filelock in /usr/local/lib/python3.10/site-packages (from datasets) (3.18.0)\n",
      "Requirement already satisfied: pyarrow>=15.0.0 in /usr/local/lib/python3.10/site-packages (from datasets) (20.0.0)\n",
      "Requirement already satisfied: pyyaml>=5.1 in /usr/local/lib/python3.10/site-packages (from datasets) (6.0.2)\n",
      "Requirement already satisfied: aiohttp!=4.0.0a0,!=4.0.0a1 in /usr/local/lib/python3.10/site-packages (from fsspec[http]>=2021.05.0->evaluate) (3.12.6)\n",
      "Requirement already satisfied: aiohappyeyeballs>=2.5.0 in /usr/local/lib/python3.10/site-packages (from aiohttp!=4.0.0a0,!=4.0.0a1->fsspec[http]>=2021.05.0->evaluate) (2.6.1)\n",
      "Requirement already satisfied: aiosignal>=1.1.2 in /usr/local/lib/python3.10/site-packages (from aiohttp!=4.0.0a0,!=4.0.0a1->fsspec[http]>=2021.05.0->evaluate) (1.3.2)\n",
      "Requirement already satisfied: async-timeout<6.0,>=4.0 in /usr/local/lib/python3.10/site-packages (from aiohttp!=4.0.0a0,!=4.0.0a1->fsspec[http]>=2021.05.0->evaluate) (4.0.3)\n",
      "Requirement already satisfied: attrs>=17.3.0 in /usr/local/lib/python3.10/site-packages (from aiohttp!=4.0.0a0,!=4.0.0a1->fsspec[http]>=2021.05.0->evaluate) (25.3.0)\n",
      "Requirement already satisfied: frozenlist>=1.1.1 in /usr/local/lib/python3.10/site-packages (from aiohttp!=4.0.0a0,!=4.0.0a1->fsspec[http]>=2021.05.0->evaluate) (1.6.0)\n",
      "Requirement already satisfied: multidict<7.0,>=4.5 in /usr/local/lib/python3.10/site-packages (from aiohttp!=4.0.0a0,!=4.0.0a1->fsspec[http]>=2021.05.0->evaluate) (6.4.4)\n",
      "Requirement already satisfied: propcache>=0.2.0 in /usr/local/lib/python3.10/site-packages (from aiohttp!=4.0.0a0,!=4.0.0a1->fsspec[http]>=2021.05.0->evaluate) (0.3.1)\n",
      "Requirement already satisfied: yarl<2.0,>=1.17.0 in /usr/local/lib/python3.10/site-packages (from aiohttp!=4.0.0a0,!=4.0.0a1->fsspec[http]>=2021.05.0->evaluate) (1.20.0)\n",
      "Requirement already satisfied: typing-extensions>=4.1.0 in /usr/local/lib/python3.10/site-packages (from multidict<7.0,>=4.5->aiohttp!=4.0.0a0,!=4.0.0a1->fsspec[http]>=2021.05.0->evaluate) (4.13.2)\n",
      "Requirement already satisfied: idna>=2.0 in /usr/local/lib/python3.10/site-packages (from yarl<2.0,>=1.17.0->aiohttp!=4.0.0a0,!=4.0.0a1->fsspec[http]>=2021.05.0->evaluate) (3.10)\n",
      "Requirement already satisfied: hf-xet<2.0.0,>=1.1.2 in /usr/local/lib/python3.10/site-packages (from huggingface-hub>=0.7.0->evaluate) (1.1.2)\n",
      "Requirement already satisfied: charset-normalizer<4,>=2 in /usr/local/lib/python3.10/site-packages (from requests>=2.19.0->evaluate) (3.4.2)\n",
      "Requirement already satisfied: urllib3<3,>=1.21.1 in /usr/local/lib/python3.10/site-packages (from requests>=2.19.0->evaluate) (2.4.0)\n",
      "Requirement already satisfied: certifi>=2017.4.17 in /usr/local/lib/python3.10/site-packages (from requests>=2.19.0->evaluate) (2025.4.26)\n",
      "Requirement already satisfied: python-dateutil>=2.8.2 in /usr/local/lib/python3.10/site-packages (from pandas->evaluate) (2.9.0.post0)\n",
      "Requirement already satisfied: pytz>=2020.1 in /usr/local/lib/python3.10/site-packages (from pandas->evaluate) (2025.2)\n",
      "Requirement already satisfied: tzdata>=2022.7 in /usr/local/lib/python3.10/site-packages (from pandas->evaluate) (2025.2)\n",
      "Requirement already satisfied: six>=1.5 in /usr/local/lib/python3.10/site-packages (from python-dateutil>=2.8.2->pandas->evaluate) (1.17.0)\n",
      "\u001b[33mWARNING: Running pip as the 'root' user can result in broken permissions and conflicting behaviour with the system package manager, possibly rendering your system unusable. It is recommended to use a virtual environment instead: https://pip.pypa.io/warnings/venv. Use the --root-user-action option if you know what you are doing and want to suppress this warning.\u001b[0m\u001b[33m\n",
      "\u001b[0m"
     ]
    }
   ],
   "source": [
    "!pip install evaluate datasets --upgrade\n",
    "\n",
    "\n"
   ]
  },
  {
   "cell_type": "code",
   "execution_count": 11,
   "id": "c6350368",
   "metadata": {},
   "outputs": [
    {
     "name": "stdout",
     "output_type": "stream",
     "text": [
      "🔵 BLEU Auto     : 0.05262202728382899\n",
      "🟢 BLEU Manuel   : 0.022267157315461233\n",
      "🔵 ROUGE Auto    : {'rouge1': Score(precision=0.38461538461538464, recall=0.38461538461538464, fmeasure=0.38461538461538464), 'rougeL': Score(precision=0.38461538461538464, recall=0.38461538461538464, fmeasure=0.38461538461538464)}\n",
      "🟢 ROUGE Manuel  : {'rouge1': Score(precision=0.21428571428571427, recall=0.23076923076923078, fmeasure=0.22222222222222224), 'rougeL': Score(precision=0.21428571428571427, recall=0.23076923076923078, fmeasure=0.22222222222222224)}\n"
     ]
    }
   ],
   "source": [
    "import evaluate\n",
    "from evaluate import load\n",
    "\n",
    "from nltk.translate.bleu_score import sentence_bleu, SmoothingFunction\n",
    "from rouge_score import rouge_scorer\n",
    "\n",
    "# Textes de référence et de prédiction\n",
    "reference = \"Crée une histoire courte pour enfants sur un lion et une grenouille.\"\n",
    "auto_output = \"Il était une fois un lion qui rencontra une grenouille dans la savane.\"\n",
    "manual_output = \"Le lion, roi de la savane, se lia d’amitié avec une petite grenouille.\"\n",
    "\n",
    "# BLEU (avec NLTK)\n",
    "ref_tokens = [reference.split()]\n",
    "auto_tokens = auto_output.split()\n",
    "manual_tokens = manual_output.split()\n",
    "\n",
    "smooth = SmoothingFunction().method4\n",
    "bleu_auto = sentence_bleu(ref_tokens, auto_tokens, smoothing_function=smooth)\n",
    "bleu_manual = sentence_bleu(ref_tokens, manual_tokens, smoothing_function=smooth)\n",
    "\n",
    "# ROUGE (avec rouge_score)\n",
    "scorer = rouge_scorer.RougeScorer(['rouge1', 'rougeL'], use_stemmer=True)\n",
    "rouge_auto = scorer.score(reference, auto_output)\n",
    "rouge_manual = scorer.score(reference, manual_output)\n",
    "\n",
    "# Résultats\n",
    "print(\"🔵 BLEU Auto     :\", bleu_auto)\n",
    "print(\"🟢 BLEU Manuel   :\", bleu_manual)\n",
    "print(\"🔵 ROUGE Auto    :\", rouge_auto)\n",
    "print(\"🟢 ROUGE Manuel  :\", rouge_manual)\n",
    "\n",
    "\n"
   ]
  },
  {
   "cell_type": "code",
   "execution_count": null,
   "id": "c91f5774-18bb-4856-8790-8f92c0b79b5c",
   "metadata": {},
   "outputs": [],
   "source": []
  }
 ],
 "metadata": {
  "colab": {
   "provenance": []
  },
  "kernelspec": {
   "display_name": "Python 3 (ipykernel)",
   "language": "python",
   "name": "python3"
  },
  "language_info": {
   "codemirror_mode": {
    "name": "ipython",
    "version": 3
   },
   "file_extension": ".py",
   "mimetype": "text/x-python",
   "name": "python",
   "nbconvert_exporter": "python",
   "pygments_lexer": "ipython3",
   "version": "3.10.17"
  }
 },
 "nbformat": 4,
 "nbformat_minor": 5
}
